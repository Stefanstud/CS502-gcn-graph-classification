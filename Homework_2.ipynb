{
 "cells": [
  {
   "cell_type": "code",
   "execution_count": 1,
   "metadata": {},
   "outputs": [],
   "source": [
    "%load_ext autoreload\n",
    "%autoreload 2"
   ]
  },
  {
   "cell_type": "code",
   "execution_count": 2,
   "metadata": {},
   "outputs": [],
   "source": [
    "from datasets import load_dataset\n",
    "from torch_geometric.data import Data\n",
    "import numpy as np\n",
    "import torch\n",
    "from torch import nn\n",
    "from torch.utils.data import Dataset, DataLoader\n",
    "import torch.nn.functional as F\n",
    "from utils import (\n",
    "    visualize_graph_with_pyvis_node_features,\n",
    "    visualize_graph_with_pyvis_edge_features,\n",
    "    aggregate_edge_features_by_node,\n",
    ")  # pip install pyvis\n",
    "from IPython.display import clear_output\n",
    "from train_test_val import (\n",
    "    train,\n",
    "    evaluate,\n",
    "    test,\n",
    "    train_edges,\n",
    "    evaluate_edges,\n",
    "    test_edges,\n",
    "    test_add_edge_to_nodes,\n",
    ")\n",
    "from sklearn.model_selection import train_test_split\n",
    "import matplotlib.pyplot as plt\n",
    "import webbrowser\n",
    "import csv\n",
    "import pandas as pd\n",
    "from sklearn.metrics import f1_score, accuracy_score\n",
    "import seaborn as sns"
   ]
  },
  {
   "cell_type": "code",
   "execution_count": 3,
   "metadata": {},
   "outputs": [],
   "source": [
    "# !pip install pyvis ##for the graph visualization"
   ]
  },
  {
   "cell_type": "code",
   "execution_count": 4,
   "metadata": {},
   "outputs": [],
   "source": [
    "dataset_hf = load_dataset(\"graphs-datasets/MUTAG\")\n",
    "dataset_pg_list = [Data(graph) for graph in dataset_hf[\"train\"]]"
   ]
  },
  {
   "cell_type": "markdown",
   "metadata": {},
   "source": [
    "Visualize mutagenic vs non-mutagenic graph"
   ]
  },
  {
   "cell_type": "code",
   "execution_count": 5,
   "metadata": {},
   "outputs": [
    {
     "data": {
      "text/plain": [
       "[1]"
      ]
     },
     "execution_count": 5,
     "metadata": {},
     "output_type": "execute_result"
    }
   ],
   "source": [
    "dataset_hf[\"train\"][0][\"y\"]  # 1 label, 0 index = MUTAGENIC"
   ]
  },
  {
   "cell_type": "code",
   "execution_count": 6,
   "metadata": {},
   "outputs": [
    {
     "data": {
      "text/plain": [
       "[0]"
      ]
     },
     "execution_count": 6,
     "metadata": {},
     "output_type": "execute_result"
    }
   ],
   "source": [
    "dataset_hf[\"train\"][1][\"y\"]  # 0 label, 1 index = NON-MUTAGENIC"
   ]
  },
  {
   "cell_type": "code",
   "execution_count": null,
   "metadata": {},
   "outputs": [],
   "source": [
    "## CAUTION: JUMPSCARE\n",
    "\n",
    "mutagenic_graph = 0\n",
    "visualize_graph_with_pyvis_node_features(\n",
    "    dataset_hf[\"train\"],\n",
    "    mutagenic_graph,\n",
    "    name=\"mutagenic_graph.html\",\n",
    ")\n",
    "\n",
    "webbrowser.open(\"mutagenic_graph.html\")\n",
    "\n",
    "non_mutagenic_graph = 1\n",
    "visualize_graph_with_pyvis_node_features(\n",
    "    dataset_hf[\"train\"],\n",
    "    non_mutagenic_graph,\n",
    "    name=\"non_mutagenic_graph.html\",\n",
    ")\n",
    "\n",
    "webbrowser.open(\"non_mutagenic_graph.html\")\n",
    "\n",
    "# Note: I have to do it with webbrowser since there is an issue with pyvis and jupyter notebook in VSCode thats unsolved."
   ]
  },
  {
   "cell_type": "markdown",
   "metadata": {},
   "source": [
    "# Part 1: Implementing Different Graph Convolution and Pooling Layers"
   ]
  },
  {
   "cell_type": "markdown",
   "metadata": {},
   "source": [
    "-------------------------------------------------"
   ]
  },
  {
   "cell_type": "markdown",
   "metadata": {},
   "source": [
    "## 1.1 Normal Convolution"
   ]
  },
  {
   "cell_type": "markdown",
   "metadata": {},
   "source": [
    "$$\n",
    "\\mathbf{h}_v^{(l+1)} = \\sigma\\left( \\mathbf{W}_l \\sum_{u\\in N(v)} \\frac{\\mathbf{h}_u^{(l)}}{|N(v)|} + \\mathbf{B}_l \\mathbf{h}_v^{(l)} \\right),\n",
    "$$\n",
    "\n",
    "$$\n",
    "H^{(l+1)} = \\sigma\\left( \\tilde{A}H^{(l)}W_l^\\top + H^{(l)}B_l^\\top \\right).\n",
    "$$\n",
    "\n",
    "where $v$ indexs the node, $l$ the layer, $\\mathbf{h}$ are the node embeddings, $\\sigma$ is a non-linearity, $N(v)$ is the set of neighbor of node $v$, and $\\mathbf{W}$ and $\\mathbf{B}$ are the trainable weight matrices of the layer."
   ]
  },
  {
   "cell_type": "code",
   "execution_count": 7,
   "metadata": {},
   "outputs": [],
   "source": [
    "class GraphConv(nn.Module):\n",
    "    \"\"\"Basic graph convolutional layer implementing the simple neighborhood aggregation.\"\"\"\n",
    "\n",
    "    def __init__(self, in_features, out_features, activation=None):\n",
    "        \"\"\"\n",
    "        Args:\n",
    "            in_features (int): number of input node features.\n",
    "            out_features (int): number of output node features.\n",
    "            activation (nn.Module or callable): activation function to apply. (optional)\n",
    "        \"\"\"\n",
    "        super().__init__()\n",
    "        self.activation = activation\n",
    "\n",
    "        self.weight = nn.Linear(in_features, out_features, bias=False)\n",
    "        nn.init.xavier_uniform_(self.weight.weight)\n",
    "        self.bias = nn.Linear(in_features, out_features, bias=False)\n",
    "\n",
    "    def forward(self, x, adj):\n",
    "        \"\"\"\n",
    "        Args:\n",
    "            x (Tensor): Input node features of shape (num_nodes, in_features).\n",
    "            adj (Tensor): Adjacency matrix of the graph, shape (num_nodes, num_nodes).\n",
    "\n",
    "        Returns:\n",
    "            Tensor: Output node features after graph convolution, shape (num_nodes, out_features).\n",
    "        \"\"\"\n",
    "        adj = adj / adj.sum(1, keepdim=True).clamp(min=1)\n",
    "        x_agg = torch.matmul(adj, x)\n",
    "\n",
    "        x = self.weight(x_agg) + self.bias(x)\n",
    "\n",
    "        if self.activation is not None:\n",
    "            x = self.activation(x)\n",
    "        return x"
   ]
  },
  {
   "cell_type": "markdown",
   "metadata": {},
   "source": [
    "## 1.2 GraphSAGE"
   ]
  },
  {
   "cell_type": "markdown",
   "metadata": {},
   "source": [
    "Start by the graph convolutional layer below. It should take as argument an arbitrary aggregation method.\n",
    "\n",
    "The equation for the GraphSAGE layer is:\n",
    "$$\n",
    "\\mathbf{h}_v^{(l+1)} = \\sigma\\left( \\mathbf{W}_l \\cdot \\mathrm{CONCAT} \\left[\\mathbf{h}_v^{(l)}, \\mathrm{AGG} \\left(\\left\\{\\mathbf{h}_u^{(l)}, \\forall u\\in N(v) \\right\\}\\right) \\right] \\right),\n",
    "$$\n",
    "where $v$ index the node, $l$ the layer, $\\mathbf{h}$ are the node embeddings, $\\sigma$ is a non-linearity, $N(v)$ is the set of neighbor of node $v$, and $\\mathbf{W}$ is the trainable weight matrix of the layer. $\\mathrm{CONCAT}$ is the concatenation operation, while $\\mathrm{AGG}$ is an arbitrary aggregation function."
   ]
  },
  {
   "cell_type": "code",
   "execution_count": 8,
   "metadata": {},
   "outputs": [],
   "source": [
    "class GraphSAGEConv(nn.Module):\n",
    "    def __init__(self, in_features, out_features, activation=None, aggregation=\"mean\"):\n",
    "        \"\"\"\n",
    "        Args:\n",
    "            in_features (int): The number of input features.\n",
    "            out_features (int): The number of output features.\n",
    "            activation (callable, optional): An activation function. Default is None.\n",
    "        \"\"\"\n",
    "        super(GraphSAGEConv, self).__init__()\n",
    "        self.aggregation = aggregation\n",
    "        self.weight = nn.Linear(2 * in_features, out_features)\n",
    "        nn.init.xavier_uniform_(self.weight.weight)\n",
    "        self.activation = activation\n",
    "\n",
    "    def forward(self, x, adj):\n",
    "        \"\"\"\n",
    "        Args:\n",
    "            x (torch.Tensor): The input features.\n",
    "            adj (torch.Tensor): The adjacency matrix.\n",
    "\n",
    "        Returns:\n",
    "            torch.Tensor: The output features after the GraphSAGE convolution.\n",
    "        \"\"\"\n",
    "        x_agg = self.aggregate(x, adj)\n",
    "\n",
    "        x_concat = torch.cat([x, x_agg], dim=1)\n",
    "\n",
    "        x_out = self.weight(x_concat)\n",
    "\n",
    "        if self.activation:\n",
    "            x_out = self.activation(x_out)\n",
    "\n",
    "        return x_out\n",
    "\n",
    "    def aggregate(self, x, adj):  # room for improvement\n",
    "        # normalize adj matrix\n",
    "        \"\"\"\n",
    "        Args:\n",
    "            x (torch.Tensor): The input features.\n",
    "            adj (torch.Tensor): The adjacency matrix.\n",
    "\n",
    "        Returns:\n",
    "            torch.Tensor: The aggregated features.\n",
    "        \"\"\"\n",
    "        adj = adj / adj.sum(1, keepdim=True).clamp(min=1)\n",
    "        if self.aggregation == \"mean\":\n",
    "            x_agg = torch.matmul(adj, x)\n",
    "\n",
    "        elif self.aggregation == \"max\":\n",
    "            edge_index = torch.triu(adj).nonzero(as_tuple=False).t()\n",
    "            x_agg = torch.zeros_like(x)\n",
    "            # Loop on all nodes\n",
    "            for i in range(x_agg.shape[0]):\n",
    "                neighbors = x[edge_index[1, edge_index[0] == i]]\n",
    "                if neighbors.shape[0] > 0:\n",
    "                    x_agg[i] = neighbors.max(dim=0)[0]\n",
    "\n",
    "        return x_agg"
   ]
  },
  {
   "cell_type": "markdown",
   "metadata": {},
   "source": [
    "## 1.3 Attention-based Convolution"
   ]
  },
  {
   "cell_type": "markdown",
   "metadata": {},
   "source": [
    "Attention-based Convolution applies attention mechanisms to neighbor\n",
    "aggregation. The equation for Attention-based Convolution at layer l can\n",
    "be defined as follows:\n",
    "$$\n",
    "h'_{v} = W h_{v}\n",
    "$$\n",
    "\n",
    "The attention coefficients between two nodes \\( i \\) and \\( j \\) can be computed as:\n",
    "$$\n",
    "e_{ij} = \\text{LeakyReLU}\\left( a^T [h'_{i} \\| h'_{j}] \\right)\n",
    "$$\n",
    "\n",
    "$$\n",
    "\\alpha_{ij} = \\text{softmax}_j(e_{ij}) = \\frac{\\exp(e_{ij})}{\\sum_{k \\in N(i)} \\exp(e_{ik})}\n",
    "$$\n",
    "\n",
    "Features for each node are computed by weighting the transformed features \\( h' \\) by the attention coefficients and aggregating:\n",
    "\n",
    "$$\n",
    "h''_{i} = \\sigma \\left( \\sum_{j \\in N(i)} \\alpha_{ij} h'_{j} \\right)\n",
    "$$\n"
   ]
  },
  {
   "cell_type": "code",
   "execution_count": 9,
   "metadata": {},
   "outputs": [],
   "source": [
    "class AttentionConv(nn.Module):\n",
    "    def __init__(self, in_features, out_features):\n",
    "        \"\"\"\n",
    "        Args:\n",
    "            in_features (int): The number of input features.\n",
    "            out_features (int): The number of output features.\n",
    "        \"\"\"\n",
    "        super(AttentionConv, self).__init__()\n",
    "\n",
    "        self.weight = nn.Parameter(torch.Tensor(in_features, out_features))\n",
    "        nn.init.xavier_uniform_(self.weight.data, gain=1.414)\n",
    "\n",
    "        # Attention mechanism parameters\n",
    "        self.a = nn.Parameter(torch.Tensor(2 * out_features, 1))\n",
    "        nn.init.xavier_uniform_(self.a.data, gain=1.414)\n",
    "\n",
    "        self.leakyrelu = nn.LeakyReLU()\n",
    "\n",
    "    def forward(self, x, adj):\n",
    "        \"\"\"\n",
    "        Args:\n",
    "            x (torch.Tensor): The input features.\n",
    "            adj (torch.Tensor): The adjacency matrix.\n",
    "\n",
    "        Returns:\n",
    "            torch.Tensor: The output features after applying the attention mechanism.\n",
    "        \"\"\"\n",
    "        h = torch.mm(x, self.weight)\n",
    "        N = h.size()[0]\n",
    "\n",
    "        # attention\n",
    "        a_input = torch.cat(\n",
    "            [h.repeat(1, N).view(N * N, -1), h.repeat(N, 1)], dim=1\n",
    "        ).view(N, -1, 2 * h.size(1))\n",
    "        e = self.leakyrelu(torch.matmul(a_input, self.a).squeeze(2))\n",
    "\n",
    "        I = torch.eye(N, device=adj.device)\n",
    "        e = e.masked_fill(I.bool(), float(\"-inf\"))\n",
    "\n",
    "        attention = F.softmax(e, dim=1)\n",
    "\n",
    "        h_prime = torch.matmul(attention, h)\n",
    "\n",
    "        return h_prime"
   ]
  },
  {
   "cell_type": "markdown",
   "metadata": {},
   "source": [
    "## 1.4 Mean Pooling and 1.5 Max Pooling"
   ]
  },
  {
   "cell_type": "code",
   "execution_count": 10,
   "metadata": {},
   "outputs": [],
   "source": [
    "def mean_pooling(x):\n",
    "    \"\"\"\n",
    "    Compute graph-level representation using mean pooling.\n",
    "\n",
    "    Args:\n",
    "        x (Tensor): Input node features of shape (num_nodes, in_features).\n",
    "\n",
    "    Returns:\n",
    "        Tensor: Graph-level representation (mean of all node features) of shape (in_features,).\n",
    "    \"\"\"\n",
    "    sum_features = torch.sum(x, dim=0, keepdim=True)\n",
    "    num_nodes = x.size(0)\n",
    "    mean_representation = sum_features / num_nodes\n",
    "\n",
    "    return mean_representation\n",
    "\n",
    "\n",
    "def max_pooling(x):\n",
    "    \"\"\"\n",
    "    Compute graph-level representation using max pooling.\n",
    "\n",
    "    Args:\n",
    "        x (Tensor): Input node features of shape (num_nodes, in_features).\n",
    "\n",
    "    Returns:\n",
    "        Tensor: Graph-level representation (maximum value across nodes for each feature dimension) of shape (feature_dim,).\n",
    "    \"\"\"\n",
    "    max_features, _ = torch.max(x, dim=0, keepdim=True)\n",
    "\n",
    "    return max_features"
   ]
  },
  {
   "cell_type": "markdown",
   "metadata": {},
   "source": [
    "# Part 2: Custom Network Design with Node Features"
   ]
  },
  {
   "cell_type": "markdown",
   "metadata": {},
   "source": [
    "-----------------------"
   ]
  },
  {
   "cell_type": "markdown",
   "metadata": {},
   "source": [
    "## 2.1 Custom(izable) Network Architecture"
   ]
  },
  {
   "cell_type": "code",
   "execution_count": 11,
   "metadata": {},
   "outputs": [],
   "source": [
    "class GraphClassifier(nn.Module):\n",
    "    def __init__(\n",
    "        self,\n",
    "        in_features,\n",
    "        hidden_features,\n",
    "        num_layers=2,\n",
    "        layer_type=\"GraphConv\",  # default\n",
    "        pooling=\"mean\",  # default\n",
    "    ):\n",
    "        \"\"\"\n",
    "        Initialize the Graph Classifier.\n",
    "\n",
    "        Args:\n",
    "            in_features (int): Number of input node features.\n",
    "            hidden_features (int): Number of hidden node features.\n",
    "            num_layers (int): Number of graph convolutional layers.\n",
    "            layer_type (str): Type of graph convolutional layer ('GraphConv', 'AttentionConv', 'GraphSAGEConv').\n",
    "            pooling (str): Pooling method ('mean' or 'max').\n",
    "        \"\"\"\n",
    "        super(GraphClassifier, self).__init__()\n",
    "\n",
    "        self.layers = nn.ModuleList()\n",
    "\n",
    "        for _ in range(num_layers):\n",
    "            if layer_type == \"GraphConv\":\n",
    "                self.layers.append(\n",
    "                    GraphConv(\n",
    "                        in_features if len(self.layers) == 0 else hidden_features,\n",
    "                        hidden_features,\n",
    "                        F.relu,\n",
    "                    )\n",
    "                )\n",
    "            elif layer_type == \"AttentionConv\":\n",
    "                self.layers.append(\n",
    "                    AttentionConv(\n",
    "                        in_features if len(self.layers) == 0 else hidden_features,\n",
    "                        hidden_features,\n",
    "                    )\n",
    "                )\n",
    "            elif layer_type == \"GraphSAGEConv\":\n",
    "                self.layers.append(\n",
    "                    GraphSAGEConv(  # can choose aggregation, default = mean\n",
    "                        in_features if len(self.layers) == 0 else hidden_features,\n",
    "                        hidden_features,\n",
    "                        F.relu,\n",
    "                    )\n",
    "                )\n",
    "\n",
    "        if pooling == \"mean\":\n",
    "            self.pooling = mean_pooling\n",
    "        elif pooling == \"max\":\n",
    "            self.pooling = max_pooling\n",
    "        else:\n",
    "            raise ValueError(\"Invalid pooling type.\")\n",
    "\n",
    "        self.fc = nn.Linear(hidden_features, 1)  # binary classification\n",
    "\n",
    "    def forward(self, x, adj):\n",
    "        \"\"\"\n",
    "        Forward propagation for the graph.\n",
    "\n",
    "        Args:\n",
    "            x (Tensor): Node features, shape (num_nodes, in_features).\n",
    "            adj (Tensor): Adjacency matrix, shape (num_nodes, num_nodes).\n",
    "\n",
    "        Returns:\n",
    "            Tensor: Binary prediction for the entire graph, shape (1).\n",
    "        \"\"\"\n",
    "\n",
    "        for layer in self.layers:\n",
    "            x = layer(x, adj)\n",
    "\n",
    "        x = self.pooling(x)\n",
    "\n",
    "        x = self.fc(x)\n",
    "\n",
    "        return x"
   ]
  },
  {
   "cell_type": "markdown",
   "metadata": {},
   "source": [
    "## 2.2 Data Partitioning"
   ]
  },
  {
   "cell_type": "markdown",
   "metadata": {},
   "source": [
    "### 2.2.1 Define Class"
   ]
  },
  {
   "cell_type": "code",
   "execution_count": 12,
   "metadata": {},
   "outputs": [],
   "source": [
    "class GraphDataset(Dataset):\n",
    "    def __init__(self, data_list):\n",
    "        self.data_list = data_list\n",
    "\n",
    "    def __len__(self):\n",
    "        return len(self.data_list)\n",
    "\n",
    "    def __getitem__(self, idx):\n",
    "        data = self.data_list[idx]\n",
    "        node_feat = torch.tensor(data.x[\"node_feat\"])\n",
    "        edge_index = torch.tensor(data.x[\"edge_index\"])\n",
    "        edge_attr = torch.tensor(data.x[\"edge_attr\"])\n",
    "        y = torch.tensor(data.x[\"y\"])\n",
    "\n",
    "        num_nodes = data.x[\"num_nodes\"]\n",
    "        adj_matrix = torch.zeros(num_nodes, num_nodes)\n",
    "        adj_matrix[edge_index[0], edge_index[1]] = 1\n",
    "\n",
    "        # Adjacency matrix for the edge features with shape [num_nodes, num_nodes, num_edge_features]\n",
    "        adj_matrix_edges = torch.zeros(\n",
    "            (num_nodes, num_nodes, edge_attr.shape[1]), dtype=torch.float32\n",
    "        )\n",
    "        for idx, (src, tgt) in enumerate(zip(edge_index[0], edge_index[1])):\n",
    "            adj_matrix_edges[src, tgt] = edge_attr[idx]\n",
    "\n",
    "        return node_feat, edge_index, edge_attr, y, adj_matrix, adj_matrix_edges"
   ]
  },
  {
   "cell_type": "markdown",
   "metadata": {},
   "source": [
    "### 2.2.2 Train-Val-Test Stratified Split"
   ]
  },
  {
   "cell_type": "code",
   "execution_count": 13,
   "metadata": {},
   "outputs": [],
   "source": [
    "train_ratio = 0.7\n",
    "val_ratio = 0.15\n",
    "test_ratio = 0.15\n",
    "\n",
    "full_dataset = GraphDataset(dataset_pg_list)\n",
    "\n",
    "ys = []\n",
    "for data in dataset_pg_list:\n",
    "    ys.append(data.x[\"y\"])\n",
    "\n",
    "test_and_val_ratio = val_ratio + test_ratio\n",
    "val_adjusted_ratio = val_ratio / test_and_val_ratio\n",
    "\n",
    "train_indices, temp_indices = train_test_split(\n",
    "    range(len(dataset_pg_list)),\n",
    "    test_size=test_and_val_ratio,\n",
    "    stratify=ys,\n",
    "    random_state=42,\n",
    ")\n",
    "\n",
    "val_indices, test_indices = train_test_split(\n",
    "    temp_indices,\n",
    "    test_size=1.0 - val_adjusted_ratio,\n",
    "    stratify=[ys[i] for i in temp_indices],\n",
    "    random_state=42,\n",
    ")\n",
    "\n",
    "train_dataset = torch.utils.data.Subset(full_dataset, train_indices)\n",
    "val_dataset = torch.utils.data.Subset(full_dataset, val_indices)\n",
    "test_dataset = torch.utils.data.Subset(full_dataset, test_indices)\n",
    "\n",
    "train_loader = DataLoader(\n",
    "    train_dataset, batch_size=1, shuffle=True\n",
    ")  # batch_size=1 to load 1 graph at a time\n",
    "val_loader = DataLoader(val_dataset, batch_size=1, shuffle=False)\n",
    "test_loader = DataLoader(test_dataset, batch_size=1, shuffle=False)"
   ]
  },
  {
   "cell_type": "markdown",
   "metadata": {},
   "source": [
    "Comment: Since the data is unbalanced, I will give more importance to F1-score instead of accuracy since it can be misleading. Its worth mentioning that f1 too can be misleading because of the imbalance (majority class is positive), but I will also print out the confusion matrices to confirm the results."
   ]
  },
  {
   "cell_type": "markdown",
   "metadata": {},
   "source": [
    "## 2.3 Hyperparameter Tuning"
   ]
  },
  {
   "cell_type": "code",
   "execution_count": 14,
   "metadata": {},
   "outputs": [],
   "source": [
    "all_results_nodes = []"
   ]
  },
  {
   "cell_type": "markdown",
   "metadata": {},
   "source": [
    "### 2.3.1 Baseline Model"
   ]
  },
  {
   "cell_type": "code",
   "execution_count": 15,
   "metadata": {},
   "outputs": [],
   "source": [
    "model = GraphClassifier(\n",
    "    in_features=7,\n",
    "    hidden_features=32,\n",
    "    num_layers=1,\n",
    "    layer_type=\"GraphConv\",\n",
    "    pooling=\"mean\",\n",
    ")\n",
    "optimizer = torch.optim.Adam(model.parameters(), lr=0.01)"
   ]
  },
  {
   "cell_type": "code",
   "execution_count": 16,
   "metadata": {},
   "outputs": [
    {
     "name": "stdout",
     "output_type": "stream",
     "text": [
      "Epoch 1/30, Train F1: 0.7609756097560976, Train Accuracy: 0.6259541984732825, Val F1: 0.8085106382978724, Val Accuracy: 0.6785714285714286\n",
      "Epoch 2/30, Train F1: 0.7981220657276995, Train Accuracy: 0.6717557251908397, Val F1: 0.8085106382978724, Val Accuracy: 0.6785714285714286\n",
      "Epoch 3/30, Train F1: 0.8223350253807107, Train Accuracy: 0.732824427480916, Val F1: 0.7777777777777778, Val Accuracy: 0.7142857142857143\n",
      "Epoch 4/30, Train F1: 0.8297872340425532, Train Accuracy: 0.7557251908396947, Val F1: 0.7368421052631579, Val Accuracy: 0.6428571428571429\n",
      "Epoch 5/30, Train F1: 0.8633879781420765, Train Accuracy: 0.8091603053435115, Val F1: 0.8372093023255814, Val Accuracy: 0.75\n",
      "Epoch 6/30, Train F1: 0.8253968253968255, Train Accuracy: 0.7480916030534351, Val F1: 0.8095238095238095, Val Accuracy: 0.7142857142857143\n",
      "Epoch 7/30, Train F1: 0.8415300546448087, Train Accuracy: 0.7786259541984732, Val F1: 0.8095238095238095, Val Accuracy: 0.7142857142857143\n",
      "Epoch 8/30, Train F1: 0.8342245989304813, Train Accuracy: 0.7633587786259542, Val F1: 0.8095238095238095, Val Accuracy: 0.7142857142857143\n",
      "Epoch 9/30, Train F1: 0.8351648351648352, Train Accuracy: 0.7709923664122137, Val F1: 0.8, Val Accuracy: 0.7142857142857143\n",
      "Epoch 10/30, Train F1: 0.8586956521739131, Train Accuracy: 0.8015267175572519, Val F1: 0.8292682926829269, Val Accuracy: 0.75\n",
      "Epoch 11/30, Train F1: 0.8351648351648352, Train Accuracy: 0.7709923664122137, Val F1: 0.8292682926829269, Val Accuracy: 0.75\n",
      "Epoch 12/30, Train F1: 0.8241758241758242, Train Accuracy: 0.7557251908396947, Val F1: 0.8292682926829269, Val Accuracy: 0.75\n",
      "Epoch 13/30, Train F1: 0.861878453038674, Train Accuracy: 0.8091603053435115, Val F1: 0.8292682926829269, Val Accuracy: 0.75\n",
      "Epoch 14/30, Train F1: 0.8432432432432432, Train Accuracy: 0.7786259541984732, Val F1: 0.8205128205128205, Val Accuracy: 0.75\n",
      "Epoch 15/30, Train F1: 0.8306010928961748, Train Accuracy: 0.7633587786259542, Val F1: 0.8, Val Accuracy: 0.7142857142857143\n",
      "Epoch 16/30, Train F1: 0.8444444444444446, Train Accuracy: 0.7862595419847328, Val F1: 0.7777777777777778, Val Accuracy: 0.7142857142857143\n",
      "Epoch 17/30, Train F1: 0.8176795580110497, Train Accuracy: 0.7480916030534351, Val F1: 0.8292682926829269, Val Accuracy: 0.75\n",
      "Epoch 18/30, Train F1: 0.8342245989304813, Train Accuracy: 0.7633587786259542, Val F1: 0.8292682926829269, Val Accuracy: 0.75\n",
      "Epoch 19/30, Train F1: 0.8444444444444446, Train Accuracy: 0.7862595419847328, Val F1: 0.8292682926829269, Val Accuracy: 0.75\n",
      "Epoch 20/30, Train F1: 0.839779005524862, Train Accuracy: 0.7786259541984732, Val F1: 0.8292682926829269, Val Accuracy: 0.75\n",
      "Epoch 21/30, Train F1: 0.8306010928961748, Train Accuracy: 0.7633587786259542, Val F1: 0.8292682926829269, Val Accuracy: 0.75\n",
      "Epoch 22/30, Train F1: 0.8369565217391305, Train Accuracy: 0.7709923664122137, Val F1: 0.8205128205128205, Val Accuracy: 0.75\n",
      "Epoch 23/30, Train F1: 0.861878453038674, Train Accuracy: 0.8091603053435115, Val F1: 0.8205128205128205, Val Accuracy: 0.75\n",
      "Epoch 24/30, Train F1: 0.8287292817679558, Train Accuracy: 0.7633587786259542, Val F1: 0.8292682926829269, Val Accuracy: 0.75\n",
      "Epoch 25/30, Train F1: 0.8571428571428572, Train Accuracy: 0.8015267175572519, Val F1: 0.8571428571428571, Val Accuracy: 0.7857142857142857\n",
      "Epoch 26/30, Train F1: 0.8494623655913979, Train Accuracy: 0.7862595419847328, Val F1: 0.8292682926829269, Val Accuracy: 0.75\n",
      "Epoch 27/30, Train F1: 0.839779005524862, Train Accuracy: 0.7786259541984732, Val F1: 0.8292682926829269, Val Accuracy: 0.75\n",
      "Epoch 28/30, Train F1: 0.8586956521739131, Train Accuracy: 0.8015267175572519, Val F1: 0.8292682926829269, Val Accuracy: 0.75\n",
      "Epoch 29/30, Train F1: 0.8444444444444446, Train Accuracy: 0.7862595419847328, Val F1: 0.8292682926829269, Val Accuracy: 0.75\n",
      "Epoch 30/30, Train F1: 0.8369565217391305, Train Accuracy: 0.7709923664122137, Val F1: 0.8292682926829269, Val Accuracy: 0.75\n"
     ]
    }
   ],
   "source": [
    "num_epochs = 30\n",
    "train_losses = []\n",
    "val_losses = []\n",
    "val_f1s = []\n",
    "train_f1s = []\n",
    "train_f1 = []\n",
    "val_f1 = []\n",
    "\n",
    "for epoch in range(num_epochs):\n",
    "    train_loss, train_accuracy, train_f1 = train(model, train_loader, optimizer)\n",
    "    val_loss, val_accuracy, val_f1 = evaluate(model, val_loader)\n",
    "    print(\n",
    "        f\"Epoch {epoch+1}/{num_epochs}, Train F1: {train_f1}, Train Accuracy: {train_accuracy}, Val F1: {val_f1}, Val Accuracy: {val_accuracy}\"\n",
    "    )\n",
    "    val_f1s.append(val_f1)\n",
    "    train_f1s.append(train_f1)\n",
    "\n",
    "results = {\n",
    "    \"name\": \"Baseline\",\n",
    "    \"num_layers\": 1,\n",
    "    \"learning_rate\": 0.01,\n",
    "    \"layer_type\": \"GraphConv\",\n",
    "    \"hidden_features\": 32,\n",
    "    \"pooling\": \"mean\",\n",
    "    \"val_accuracy\": val_accuracy,\n",
    "    \"val_f1\": val_f1,\n",
    "}\n",
    "all_results_nodes.append(results)"
   ]
  },
  {
   "cell_type": "code",
   "execution_count": null,
   "metadata": {},
   "outputs": [
    {
     "data": {
      "image/png": "[encoded data removed]",
      "text/plain": [
       "<Figure size 1200x600 with 1 Axes>"
      ]
     },
     "metadata": {},
     "output_type": "display_data"
    }
   ],
   "source": [
    "def moving_average(data, window_size):\n",
    "    \"\"\"Compute the moving average of the given list.\"\"\"\n",
    "    return [np.mean(data[max(0, i - window_size) : (i + 1)]) for i in range(len(data))]\n",
    "\n",
    "\n",
    "window_size = 5\n",
    "\n",
    "smoothed_train_accuracies = moving_average(train_f1s, window_size)\n",
    "smoothed_val_accuracies = moving_average(val_f1s, window_size)\n",
    "\n",
    "plt.figure(figsize=(12, 6))\n",
    "plt.plot(smoothed_train_accuracies, label=\"Smoothed Training Accuracy\", color=\"blue\")\n",
    "plt.plot(smoothed_val_accuracies, label=\"Smoothed Validation Accuracy\", color=\"red\")\n",
    "plt.title(\"Smoothed Training and Validation Accuracies over Epochs\")\n",
    "plt.xlabel(\"Epoch\")\n",
    "plt.ylabel(\"Accuracy\")\n",
    "plt.xticks(range(0, num_epochs))\n",
    "plt.legend()\n",
    "plt.grid(True)\n",
    "plt.show()"
   ]
  },
  {
   "cell_type": "markdown",
   "metadata": {},
   "source": [
    "### 2.3.2 Grid Search - Best possible Model, considering the grid search space"
   ]
  },
  {
   "cell_type": "code",
   "execution_count": 19,
   "metadata": {},
   "outputs": [
    {
     "name": "stdout",
     "output_type": "stream",
     "text": [
      "Best hyperparameters: Num Layers: 3, LR: 0.001, Layer Type: GraphConv, Hidden Features: 16, Pooling: max, with Val f1: 0.9047619047619047\n"
     ]
    }
   ],
   "source": [
    "hyperparameters = {\n",
    "    \"num_layers\": [1, 2, 3, 4],\n",
    "    \"learning_rate\": [0.1, 0.01, 0.001],\n",
    "    \"layer_type\": [\"GraphConv\", \"AttentionConv\", \"GraphSAGEConv\"],\n",
    "    \"hidden_features\": [16, 32, 64],\n",
    "    \"pooling\": [\"mean\", \"max\"],\n",
    "}\n",
    "\n",
    "num_epochs = 30\n",
    "best_val_f1 = float(0)\n",
    "best_params = None\n",
    "\n",
    "for nl in hyperparameters[\"num_layers\"]:\n",
    "    for lr in hyperparameters[\"learning_rate\"]:\n",
    "        for lt in hyperparameters[\"layer_type\"]:\n",
    "            for hf in hyperparameters[\"hidden_features\"]:\n",
    "                for pooling in hyperparameters[\"pooling\"]:\n",
    "                    model = GraphClassifier(\n",
    "                        in_features=7,\n",
    "                        hidden_features=hf,\n",
    "                        num_layers=nl,\n",
    "                        layer_type=lt,\n",
    "                        pooling=pooling,\n",
    "                    )\n",
    "                    optimizer = torch.optim.Adam(model.parameters(), lr=lr)\n",
    "\n",
    "                    best_val_f1_model = 0\n",
    "                    best_val_f1_model_accuracy = 0\n",
    "\n",
    "                    for epoch in range(num_epochs):\n",
    "                        train_loss, train_accuracy, train_f1 = train(\n",
    "                            model, train_loader, optimizer\n",
    "                        )\n",
    "                        val_loss, val_accuracy, val_f1 = evaluate(model, val_loader)\n",
    "\n",
    "                        print(\n",
    "                            f\"Epoch {epoch+1}/{num_epochs}, Train F1: {train_f1}, Train Accuracy: {train_accuracy}, Val F1: {val_f1}, Val Accuracy: {val_accuracy}\"\n",
    "                        )\n",
    "\n",
    "                        if val_f1 > best_val_f1:\n",
    "                            best_val_f1 = val_f1\n",
    "                            best_params = (nl, lr, lt, hf, pooling)\n",
    "                            torch.save(model.state_dict(), \"best_model_nodes.pt\")\n",
    "\n",
    "                        if val_f1 > best_val_f1_model:\n",
    "                            best_val_f1_model = val_f1\n",
    "                            best_val_f1_model_accuracy = val_accuracy\n",
    "\n",
    "                    results = {\n",
    "                        \"name\": str(lt)\n",
    "                        + \"_\"\n",
    "                        + str(nl)\n",
    "                        + \"_\"\n",
    "                        + str(lr)\n",
    "                        + \"_\"\n",
    "                        + str(hf)\n",
    "                        + \"_\"\n",
    "                        + str(pooling),\n",
    "                        \"num_layers\": nl,\n",
    "                        \"learning_rate\": lr,\n",
    "                        \"layer_type\": lt,\n",
    "                        \"hidden_features\": hf,\n",
    "                        \"pooling\": pooling,\n",
    "                        \"val_accuracy\": best_val_f1_model_accuracy,\n",
    "                        \"val_f1\": best_val_f1_model,\n",
    "                    }\n",
    "                    all_results_nodes.append(results)\n",
    "                    clear_output()\n",
    "print(\n",
    "    f\"Best hyperparameters: Num Layers: {best_params[0]}, LR: {best_params[1]}, Layer Type: {best_params[2]}, Hidden Features: {best_params[3]}, Pooling: {best_params[4]}, with Val f1: {best_val_f1}\"\n",
    ")"
   ]
  },
  {
   "cell_type": "code",
   "execution_count": 20,
   "metadata": {},
   "outputs": [],
   "source": [
    "with open(\"results_nodes.csv\", \"w\", newline=\"\") as csvfile:\n",
    "    fieldnames = [\n",
    "        \"name\",\n",
    "        \"num_layers\",\n",
    "        \"learning_rate\",\n",
    "        \"layer_type\",\n",
    "        \"hidden_features\",\n",
    "        \"pooling\",\n",
    "        \"val_accuracy\",\n",
    "        \"val_f1\",\n",
    "    ]\n",
    "    writer = csv.DictWriter(csvfile, fieldnames=fieldnames)\n",
    "\n",
    "    writer.writeheader()\n",
    "    for row in all_results_nodes:\n",
    "        writer.writerow(row)"
   ]
  },
  {
   "cell_type": "markdown",
   "metadata": {},
   "source": [
    "## 2.4 Performance Evaluation"
   ]
  },
  {
   "cell_type": "code",
   "execution_count": 3,
   "metadata": {},
   "outputs": [
    {
     "data": {
      "text/html": [
       "<div>\n",
       "<style scoped>\n",
       "    .dataframe tbody tr th:only-of-type {\n",
       "        vertical-align: middle;\n",
       "    }\n",
       "\n",
       "    .dataframe tbody tr th {\n",
       "        vertical-align: top;\n",
       "    }\n",
       "\n",
       "    .dataframe thead th {\n",
       "        text-align: right;\n",
       "    }\n",
       "</style>\n",
       "<table border=\"1\" class=\"dataframe\">\n",
       "  <thead>\n",
       "    <tr style=\"text-align: right;\">\n",
       "      <th></th>\n",
       "      <th>name</th>\n",
       "      <th>num_layers</th>\n",
       "      <th>learning_rate</th>\n",
       "      <th>layer_type</th>\n",
       "      <th>hidden_features</th>\n",
       "      <th>pooling</th>\n",
       "      <th>val_accuracy</th>\n",
       "      <th>val_f1</th>\n",
       "    </tr>\n",
       "  </thead>\n",
       "  <tbody>\n",
       "    <tr>\n",
       "      <th>0</th>\n",
       "      <td>Baseline</td>\n",
       "      <td>1</td>\n",
       "      <td>0.01</td>\n",
       "      <td>GraphConv</td>\n",
       "      <td>32</td>\n",
       "      <td>mean</td>\n",
       "      <td>0.785714</td>\n",
       "      <td>0.857143</td>\n",
       "    </tr>\n",
       "    <tr>\n",
       "      <th>1</th>\n",
       "      <td>{lt}_{nl}_{lr}_{hf}_{pooling}</td>\n",
       "      <td>1</td>\n",
       "      <td>0.10</td>\n",
       "      <td>GraphConv</td>\n",
       "      <td>16</td>\n",
       "      <td>mean</td>\n",
       "      <td>0.750000</td>\n",
       "      <td>0.844444</td>\n",
       "    </tr>\n",
       "    <tr>\n",
       "      <th>2</th>\n",
       "      <td>{lt}_{nl}_{lr}_{hf}_{pooling}</td>\n",
       "      <td>1</td>\n",
       "      <td>0.10</td>\n",
       "      <td>GraphConv</td>\n",
       "      <td>16</td>\n",
       "      <td>max</td>\n",
       "      <td>0.678571</td>\n",
       "      <td>0.800000</td>\n",
       "    </tr>\n",
       "    <tr>\n",
       "      <th>3</th>\n",
       "      <td>{lt}_{nl}_{lr}_{hf}_{pooling}</td>\n",
       "      <td>1</td>\n",
       "      <td>0.10</td>\n",
       "      <td>GraphConv</td>\n",
       "      <td>32</td>\n",
       "      <td>mean</td>\n",
       "      <td>0.750000</td>\n",
       "      <td>0.844444</td>\n",
       "    </tr>\n",
       "    <tr>\n",
       "      <th>4</th>\n",
       "      <td>{lt}_{nl}_{lr}_{hf}_{pooling}</td>\n",
       "      <td>1</td>\n",
       "      <td>0.10</td>\n",
       "      <td>GraphConv</td>\n",
       "      <td>32</td>\n",
       "      <td>max</td>\n",
       "      <td>0.714286</td>\n",
       "      <td>0.826087</td>\n",
       "    </tr>\n",
       "  </tbody>\n",
       "</table>\n",
       "</div>"
      ],
      "text/plain": [
       "                            name  num_layers  learning_rate layer_type   \n",
       "0                       Baseline           1           0.01  GraphConv  \\\n",
       "1  {lt}_{nl}_{lr}_{hf}_{pooling}           1           0.10  GraphConv   \n",
       "2  {lt}_{nl}_{lr}_{hf}_{pooling}           1           0.10  GraphConv   \n",
       "3  {lt}_{nl}_{lr}_{hf}_{pooling}           1           0.10  GraphConv   \n",
       "4  {lt}_{nl}_{lr}_{hf}_{pooling}           1           0.10  GraphConv   \n",
       "\n",
       "   hidden_features pooling  val_accuracy    val_f1  \n",
       "0               32    mean      0.785714  0.857143  \n",
       "1               16    mean      0.750000  0.844444  \n",
       "2               16     max      0.678571  0.800000  \n",
       "3               32    mean      0.750000  0.844444  \n",
       "4               32     max      0.714286  0.826087  "
      ]
     },
     "execution_count": 3,
     "metadata": {},
     "output_type": "execute_result"
    }
   ],
   "source": [
    "results_nodes = pd.read_csv(\"results_nodes.csv\")\n",
    "results_nodes.head()"
   ]
  },
  {
   "cell_type": "markdown",
   "metadata": {},
   "source": [
    "#### 2.4.1 Compare Layers"
   ]
  },
  {
   "cell_type": "code",
   "execution_count": 4,
   "metadata": {},
   "outputs": [
    {
     "data": {
      "image/png": "[encoded data removed]",
      "text/plain": [
       "<Figure size 1000x500 with 1 Axes>"
      ]
     },
     "metadata": {},
     "output_type": "display_data"
    }
   ],
   "source": [
    "best_layer = results_nodes.drop(columns=[\"name\", \"pooling\"])\n",
    "\n",
    "box = best_layer.boxplot(column=\"val_f1\", by=\"layer_type\", figsize=(10, 5))\n",
    "\n",
    "plt.show()"
   ]
  },
  {
   "cell_type": "markdown",
   "metadata": {},
   "source": [
    "\"AttentionConv\" has the highest median val_f1 score. \"GraphConv,\" while having some data points achieving higher val_f1 values, has a broader spread and a lower median, indicating greater variability. \"GraphSAGEConv\" offers a consistent range of values but trails behind both in terms of median performance. \"AttentionConv\" leads in performance, \"GraphConv\" displays variability with potential highs, and \"GraphSAGEConv\" provides slightly lower results. "
   ]
  },
  {
   "cell_type": "code",
   "execution_count": 7,
   "metadata": {},
   "outputs": [
    {
     "data": {
      "text/html": [
       "<div>\n",
       "<style scoped>\n",
       "    .dataframe tbody tr th:only-of-type {\n",
       "        vertical-align: middle;\n",
       "    }\n",
       "\n",
       "    .dataframe tbody tr th {\n",
       "        vertical-align: top;\n",
       "    }\n",
       "\n",
       "    .dataframe thead th {\n",
       "        text-align: right;\n",
       "    }\n",
       "</style>\n",
       "<table border=\"1\" class=\"dataframe\">\n",
       "  <thead>\n",
       "    <tr style=\"text-align: right;\">\n",
       "      <th></th>\n",
       "      <th>val_accuracy</th>\n",
       "      <th>val_f1</th>\n",
       "    </tr>\n",
       "    <tr>\n",
       "      <th>layer_type</th>\n",
       "      <th></th>\n",
       "      <th></th>\n",
       "    </tr>\n",
       "  </thead>\n",
       "  <tbody>\n",
       "    <tr>\n",
       "      <th>AttentionConv</th>\n",
       "      <td>0.736607</td>\n",
       "      <td>0.837649</td>\n",
       "    </tr>\n",
       "    <tr>\n",
       "      <th>GraphConv</th>\n",
       "      <td>0.746086</td>\n",
       "      <td>0.839372</td>\n",
       "    </tr>\n",
       "    <tr>\n",
       "      <th>GraphSAGEConv</th>\n",
       "      <td>0.728175</td>\n",
       "      <td>0.830379</td>\n",
       "    </tr>\n",
       "  </tbody>\n",
       "</table>\n",
       "</div>"
      ],
      "text/plain": [
       "               val_accuracy    val_f1\n",
       "layer_type                           \n",
       "AttentionConv      0.736607  0.837649\n",
       "GraphConv          0.746086  0.839372\n",
       "GraphSAGEConv      0.728175  0.830379"
      ]
     },
     "execution_count": 7,
     "metadata": {},
     "output_type": "execute_result"
    }
   ],
   "source": [
    "# compare means of the different layer types and display in a table\n",
    "best_layer.groupby(\"layer_type\").mean().drop(\n",
    "    columns=[\"num_layers\", \"hidden_features\", \"learning_rate\"]\n",
    ")"
   ]
  },
  {
   "cell_type": "markdown",
   "metadata": {},
   "source": [
    "From this table we can see that GraphConv has slighly higher mean validation accuracy and f1-score. Considering that, and considering that the best f1 achieved was with GraphConv, I will you this as a layer in my best model."
   ]
  },
  {
   "cell_type": "markdown",
   "metadata": {},
   "source": [
    "#### 2.4.2 Compare Pooling Methods"
   ]
  },
  {
   "cell_type": "code",
   "execution_count": 8,
   "metadata": {},
   "outputs": [
    {
     "data": {
      "image/png": "[encoded data removed]",
      "text/plain": [
       "<Figure size 800x500 with 1 Axes>"
      ]
     },
     "metadata": {},
     "output_type": "display_data"
    }
   ],
   "source": [
    "pooling_df = results_nodes.drop(columns=[\"name\", \"layer_type\"])\n",
    "\n",
    "grouped_pooling = pooling_df.groupby(\"pooling\").mean()[[\"val_accuracy\", \"val_f1\"]]\n",
    "\n",
    "plt.figure(figsize=(8, 5))\n",
    "grouped_pooling[\"val_accuracy\"].plot(\n",
    "    kind=\"bar\", color=\"blue\", label=\"Validation Accuracy\", alpha=0.8\n",
    ")\n",
    "grouped_pooling[\"val_f1\"].plot(\n",
    "    kind=\"bar\", color=\"green\", label=\"Validation F1 Score\", alpha=0.5\n",
    ")\n",
    "plt.title(\"Performance by Pooling Method\")\n",
    "plt.xlabel(\"Pooling Method\")\n",
    "plt.ylabel(\"Score\")\n",
    "plt.legend()\n",
    "plt.tight_layout()\n",
    "plt.show()"
   ]
  },
  {
   "cell_type": "markdown",
   "metadata": {},
   "source": [
    "The performance by pooling does not differ significantly. A clear difference cannot be seen from this plot. Further analysis is required."
   ]
  },
  {
   "cell_type": "code",
   "execution_count": 27,
   "metadata": {},
   "outputs": [
    {
     "data": {
      "text/html": [
       "<div>\n",
       "<style scoped>\n",
       "    .dataframe tbody tr th:only-of-type {\n",
       "        vertical-align: middle;\n",
       "    }\n",
       "\n",
       "    .dataframe tbody tr th {\n",
       "        vertical-align: top;\n",
       "    }\n",
       "\n",
       "    .dataframe thead th {\n",
       "        text-align: right;\n",
       "    }\n",
       "</style>\n",
       "<table border=\"1\" class=\"dataframe\">\n",
       "  <thead>\n",
       "    <tr style=\"text-align: right;\">\n",
       "      <th></th>\n",
       "      <th>val_accuracy</th>\n",
       "      <th>val_f1</th>\n",
       "    </tr>\n",
       "    <tr>\n",
       "      <th>pooling</th>\n",
       "      <th></th>\n",
       "      <th></th>\n",
       "    </tr>\n",
       "  </thead>\n",
       "  <tbody>\n",
       "    <tr>\n",
       "      <th>max</th>\n",
       "      <td>0.733796</td>\n",
       "      <td>0.835618</td>\n",
       "    </tr>\n",
       "    <tr>\n",
       "      <th>mean</th>\n",
       "      <td>0.740170</td>\n",
       "      <td>0.836012</td>\n",
       "    </tr>\n",
       "  </tbody>\n",
       "</table>\n",
       "</div>"
      ],
      "text/plain": [
       "         val_accuracy    val_f1\n",
       "pooling                        \n",
       "max          0.733796  0.835618\n",
       "mean         0.740170  0.836012"
      ]
     },
     "execution_count": 27,
     "metadata": {},
     "output_type": "execute_result"
    }
   ],
   "source": [
    "pooling_df = pooling_df.groupby(\"pooling\").mean()[[\"val_accuracy\", \"val_f1\"]]\n",
    "pooling_df"
   ]
  },
  {
   "cell_type": "markdown",
   "metadata": {},
   "source": [
    "They perform almost exactly the same, I will choose mean as the pooling method."
   ]
  },
  {
   "cell_type": "markdown",
   "metadata": {},
   "source": [
    "#### 2.4.3 Comparison between different Number of Hidden Features"
   ]
  },
  {
   "cell_type": "code",
   "execution_count": 33,
   "metadata": {},
   "outputs": [
    {
     "data": {
      "image/png": "[encoded data removed]",
      "text/plain": [
       "<Figure size 1000x500 with 1 Axes>"
      ]
     },
     "metadata": {},
     "output_type": "display_data"
    }
   ],
   "source": [
    "best_hidden_features = results_nodes.drop(columns=[\"name\", \"pooling\", \"layer_type\"])\n",
    "\n",
    "box = best_hidden_features.boxplot(\n",
    "    column=\"val_f1\", by=\"hidden_features\", figsize=(10, 5)\n",
    ")\n",
    "\n",
    "plt.show()"
   ]
  },
  {
   "cell_type": "markdown",
   "metadata": {},
   "source": [
    "The boxplot with 16 hidden features has the highest variance. As the number of hidden features increases the median also increases, so likely if we increase the number of hidden features the performance will increase. Although having 16 hidden features increases the variance, its maximum is the highest among the three."
   ]
  },
  {
   "cell_type": "markdown",
   "metadata": {},
   "source": [
    "#### 2.4.4 Evaluate the performance on the test set"
   ]
  },
  {
   "cell_type": "code",
   "execution_count": 17,
   "metadata": {},
   "outputs": [],
   "source": [
    "best_model_nodes = GraphClassifier(\n",
    "    in_features=7,\n",
    "    hidden_features=16,\n",
    "    num_layers=3,\n",
    "    layer_type=\"GraphConv\",\n",
    "    pooling=\"max\",\n",
    ")"
   ]
  },
  {
   "cell_type": "code",
   "execution_count": 18,
   "metadata": {},
   "outputs": [
    {
     "data": {
      "text/plain": [
       "<All keys matched successfully>"
      ]
     },
     "execution_count": 18,
     "metadata": {},
     "output_type": "execute_result"
    }
   ],
   "source": [
    "best_model_nodes.load_state_dict(torch.load(\"best_model_nodes.pt\"))"
   ]
  },
  {
   "cell_type": "code",
   "execution_count": 33,
   "metadata": {},
   "outputs": [
    {
     "name": "stdout",
     "output_type": "stream",
     "text": [
      "Baseline Model, Test F1: 0.7804878048780488, Test Accuracy: 0.6896551724137931\n"
     ]
    },
    {
     "data": {
      "image/png": "[encoded data removed]",
      "text/plain": [
       "<Figure size 800x600 with 1 Axes>"
      ]
     },
     "metadata": {},
     "output_type": "display_data"
    },
    {
     "name": "stdout",
     "output_type": "stream",
     "text": [
      "Best Model, Test F1: 0.8292682926829269, Test Accuracy: 0.7586206896551724\n"
     ]
    },
    {
     "data": {
      "image/png": "[encoded data removed]",
      "text/plain": [
       "<Figure size 800x600 with 1 Axes>"
      ]
     },
     "metadata": {},
     "output_type": "display_data"
    }
   ],
   "source": [
    "def plot_confusion_matrix(cm, title):\n",
    "    muted_blues = sns.light_palette(\"purple\", as_cmap=True)\n",
    "\n",
    "    plt.figure(figsize=(8, 6))\n",
    "    sns.heatmap(\n",
    "        cm,\n",
    "        annot=True,\n",
    "        fmt=\"g\",\n",
    "        cmap=muted_blues,\n",
    "        cbar=False,\n",
    "        xticklabels=[\"NOT MUTAGENIC\", \"MUTAGENIC\"],\n",
    "        yticklabels=[\"NOT MUTAGENIC\", \"MUTAGENIC\"],\n",
    "    )\n",
    "    plt.xlabel(\"Predicted Labels\")\n",
    "    plt.ylabel(\"True Labels\")\n",
    "    plt.title(title)\n",
    "    plt.show()\n",
    "\n",
    "\n",
    "test_loss, test_accuracy_baseline, test_f1_baseline, cm1 = test(\n",
    "    model, test_loader, nn.BCEWithLogitsLoss()\n",
    ")\n",
    "test_loss, test_accuracy_best, test_f1_best, cm2 = test(\n",
    "    best_model_nodes, test_loader, nn.BCEWithLogitsLoss()\n",
    ")\n",
    "\n",
    "print(\n",
    "    f\"Baseline Model, Test F1: {test_f1_baseline}, Test Accuracy: {test_accuracy_baseline}\"\n",
    ")\n",
    "plot_confusion_matrix(cm1, \"Confusion Matrix for Baseline Model\")\n",
    "\n",
    "print(f\"Best Model, Test F1: {test_f1_best}, Test Accuracy: {test_accuracy_best}\")\n",
    "plot_confusion_matrix(cm2, \"Confusion Matrix for Best Model\")"
   ]
  },
  {
   "cell_type": "markdown",
   "metadata": {},
   "source": [
    "We can conclude that the hyperparameter optimization indeed worked, and the f1 score improved by ~5%, while the accuracy improved by ~7%"
   ]
  },
  {
   "cell_type": "markdown",
   "metadata": {},
   "source": [
    " With only 29 graphs, the validation set might not be representative of the entire data distribution. Any insights or conclusions drawn from it might not generalize well to a broader or different dataset. Small datasets are more susceptible to random variations. A few misclassifications or inaccuracies can have a more pronounced effect on metrics like the F1 Score. Even if a layer type seems to perform well on this small validation set, it doesn't necessarily mean it will perform equally well on a larger or different dataset. This problem can be mitigated with cross validation."
   ]
  },
  {
   "cell_type": "markdown",
   "metadata": {},
   "source": [
    "# Part 3: Incorporating Edge Features"
   ]
  },
  {
   "cell_type": "markdown",
   "metadata": {},
   "source": [
    "## 3.1 Explain your strategy for incorporating edge features"
   ]
  },
  {
   "cell_type": "markdown",
   "metadata": {},
   "source": [
    "Lets visualize the graphs but this time with edge features, hover the edges to show the features."
   ]
  },
  {
   "cell_type": "code",
   "execution_count": null,
   "metadata": {},
   "outputs": [],
   "source": [
    "mutagenic_graph = 0\n",
    "visualize_graph_with_pyvis_edge_features(\n",
    "    dataset_hf[\"train\"],\n",
    "    mutagenic_graph,\n",
    "    name=\"mutagenic_graph.html\",\n",
    ")\n",
    "\n",
    "webbrowser.open(\"edge_mutagenic_graph.html\")\n",
    "\n",
    "non_mutagenic_graph = 1\n",
    "visualize_graph_with_pyvis_edge_features(\n",
    "    dataset_hf[\"train\"],\n",
    "    non_mutagenic_graph,\n",
    "    name=\"non_mutagenic_graph.html\",\n",
    ")\n",
    "\n",
    "webbrowser.open(\"edge_non_mutagenic_graph.html\")\n",
    "\n",
    "# Note: I have to do it with webbrowser since there is an issue with pyvis and jupyter notebook in VSCode thats unsolved."
   ]
  },
  {
   "cell_type": "markdown",
   "metadata": {},
   "source": [
    "-------------------------"
   ]
  },
  {
   "cell_type": "markdown",
   "metadata": {},
   "source": [
    "##### ** NOTE **: Instead of showing the code for all the methods i will just present the results and justify my choice based on that. You can find the code for all the methods at the bottom in section \"Additional Code\""
   ]
  },
  {
   "cell_type": "markdown",
   "metadata": {},
   "source": [
    "-------------------------"
   ]
  },
  {
   "cell_type": "markdown",
   "metadata": {},
   "source": [
    "##### Methods for Edge Feature Aggregation\n",
    "\n",
    "**<s>Method 1: Aggregate Edge Features and replace the 1s in the adjacency matrix with the aggregation</s>**\n",
    "\n",
    "***Important Note about Method 1:*** This method does not make sense after further thought. Since the features are one hot encoded, if i do an aggregation, lets say max, i would still end up with the same value of 1 in the adjacency matrix since the max from `[0 1 0 0]` is 1. If i do mean i would get 0.25 instead of 1, but again thats not viable, since i do not provide additional information about the features other than \"there is an edge, there is not an edge\". This method would make sense if the features were not one hot encoded. I will still write the code and leave it at the bottom section, but i wont use it in the comparison.\n",
    "\n",
    "**Method 2: Scalars Based on Edge Features Frequency** -\n",
    "The straightforward approach is to compute the frequency of the vectors and assign a constant based on that frequency. For instance, if an edge feature vector `[1 0 0 0]` appears 138 times in the training set, `[0 1 0 0]` appears 130 times, and so on. I assign smaller constants to vectors with larger frequencies to emphasize rare vectors. This method is entirely speculative. It's uncertain whether emphasizing rare features is always the correct approach(its more of a \"naive\" approach since I assume that rare features are relevant), so relying solely on this method may not be optimal.\n",
    "\n",
    "**Method 3: Node Feature Augmentation based on Edge Feature Aggregation** -\n",
    "The idea is to compute aggregated edge attributes for each node in the graph and use them to augment the original node features. The aggregation can be done using operations like mean, max, or sum. Example: Node A with feature vector x = `[0 1 0 0 0 0 0]`, has 2 edges, e1 = `[0 0 1 0]` and e2 = `[1 0 0 0]`. PAIRWISE_MEAN(e1, e2) = `[0.5, 0, 0.5, 0]`. Augment Node A with the aggregated edge attributes. CONCAT(Node A, PAIRWISE_MEAN) = `[0 1 0 0 0 0 0 0.5 0 0.5 0]`.\n",
    "\n",
    "**Method 4: Embed + Merge + Transform** -\n",
    "Instead of relying on fixed scalars, a more advanced method uses learnable weights in the adjacency matrix. In this approach, we learn scalar weights for each combination of edge features and node features. First we use an embedding layer to learn to embed edge features in the same dimension as node features. Then a neural network takes the concatenated or merged features of edges and nodes as input and produces these scalar weights. Also a Tanh activation function within this neural network to introduce non-linearity. These weights, modulated by the Tanh activation, determine the significance of each edge feature in the context of its associated node features when aggregating information from neighboring nodes. This adaptability, with the added non-linearity, allows the model to assign varying degrees of importance to different combinations of edge and node features.\n",
    "\n",
    "\n",
    "\n",
    "\n",
    "Reason for Choice: \n",
    "Given the uncertainty regarding the influence of a specific edge feature in determining whether a graph is MUTAGENIC, a promising approach is using a learnable weight. This weight aims to discern this \"influence\" during the learning phase. For the transformation, a Neural Network is employed.\n"
   ]
  },
  {
   "cell_type": "markdown",
   "metadata": {},
   "source": [
    "------------"
   ]
  },
  {
   "cell_type": "markdown",
   "metadata": {},
   "source": [
    "### 3.1.1 Evaluation of the different methods for incorporating edge features"
   ]
  },
  {
   "cell_type": "code",
   "execution_count": 11,
   "metadata": {},
   "outputs": [],
   "source": [
    "results_edges_freq = pd.read_csv(\"results_edges_freq.csv\")\n",
    "results_edges_aggr_sum_to_nodes = pd.read_csv(\"results_edges_aggr_sum_to_nodes.csv\")\n",
    "results_edges_aggr_meanmax_to_nodes = pd.read_csv(\n",
    "    \"results_edges_aggr_meanmax_to_nodes.csv\"\n",
    ")\n",
    "results_edges = pd.read_csv(\"results_edges_embed_transform.csv\")\n",
    "\n",
    "dataframes = {\n",
    "    \"results_edges_freq\": results_edges_freq,\n",
    "    \"results_edges_aggr_sum_to_nodes\": results_edges_aggr_sum_to_nodes,\n",
    "    \"results_edges_aggr_meanmax_to_nodes\": results_edges_aggr_meanmax_to_nodes,\n",
    "    \"results_edges\": results_edges,\n",
    "}\n",
    "\n",
    "df_samples = {key: df.head() for key, df in dataframes.items()}"
   ]
  },
  {
   "cell_type": "code",
   "execution_count": 12,
   "metadata": {},
   "outputs": [
    {
     "data": {
      "text/html": [
       "<div>\n",
       "<style scoped>\n",
       "    .dataframe tbody tr th:only-of-type {\n",
       "        vertical-align: middle;\n",
       "    }\n",
       "\n",
       "    .dataframe tbody tr th {\n",
       "        vertical-align: top;\n",
       "    }\n",
       "\n",
       "    .dataframe thead th {\n",
       "        text-align: right;\n",
       "    }\n",
       "</style>\n",
       "<table border=\"1\" class=\"dataframe\">\n",
       "  <thead>\n",
       "    <tr style=\"text-align: right;\">\n",
       "      <th></th>\n",
       "      <th>Edge Feature Implementation</th>\n",
       "      <th>Average Validation Accuracy</th>\n",
       "      <th>Average F1 Score</th>\n",
       "    </tr>\n",
       "  </thead>\n",
       "  <tbody>\n",
       "    <tr>\n",
       "      <th>0</th>\n",
       "      <td>Frequency</td>\n",
       "      <td>0.739253</td>\n",
       "      <td>0.837053</td>\n",
       "    </tr>\n",
       "    <tr>\n",
       "      <th>1</th>\n",
       "      <td>Aggregated Sum + Concatenation</td>\n",
       "      <td>0.752149</td>\n",
       "      <td>0.844497</td>\n",
       "    </tr>\n",
       "    <tr>\n",
       "      <th>2</th>\n",
       "      <td>Aggregated Mean/Max + Concatenation</td>\n",
       "      <td>0.730985</td>\n",
       "      <td>0.833505</td>\n",
       "    </tr>\n",
       "    <tr>\n",
       "      <th>3</th>\n",
       "      <td>Embed + Merge + Transform</td>\n",
       "      <td>0.788525</td>\n",
       "      <td>0.866932</td>\n",
       "    </tr>\n",
       "  </tbody>\n",
       "</table>\n",
       "</div>"
      ],
      "text/plain": [
       "           Edge Feature Implementation  Average Validation Accuracy   \n",
       "0                            Frequency                     0.739253  \\\n",
       "1       Aggregated Sum + Concatenation                     0.752149   \n",
       "2  Aggregated Mean/Max + Concatenation                     0.730985   \n",
       "3            Embed + Merge + Transform                     0.788525   \n",
       "\n",
       "   Average F1 Score  \n",
       "0          0.837053  \n",
       "1          0.844497  \n",
       "2          0.833505  \n",
       "3          0.866932  "
      ]
     },
     "metadata": {},
     "output_type": "display_data"
    }
   ],
   "source": [
    "summary = {\n",
    "    \"Edge Feature Implementation\": [\n",
    "        \"Frequency\",\n",
    "        \"Aggregated Sum + Concatenation\",\n",
    "        \"Aggregated Mean/Max + Concatenation\",\n",
    "        \"Embed + Merge + Transform\",\n",
    "    ],\n",
    "    \"Average Validation Accuracy\": [\n",
    "        results_edges_freq[\"val_accuracy\"].mean(),\n",
    "        results_edges_aggr_sum_to_nodes[\"val_accuracy\"].mean(),\n",
    "        results_edges_aggr_meanmax_to_nodes[\"val_accuracy\"].mean(),\n",
    "        results_edges[\"val_accuracy\"].mean(),\n",
    "    ],\n",
    "    \"Average F1 Score\": [\n",
    "        results_edges_freq[\"val_f1\"].mean(),\n",
    "        results_edges_aggr_sum_to_nodes[\"val_f1\"].mean(),\n",
    "        results_edges_aggr_meanmax_to_nodes[\"val_f1\"].mean(),\n",
    "        results_edges[\"val_f1\"].mean(),\n",
    "    ],\n",
    "}\n",
    "\n",
    "summary_df = pd.DataFrame(summary)\n",
    "display(summary_df)"
   ]
  },
  {
   "cell_type": "code",
   "execution_count": 13,
   "metadata": {},
   "outputs": [
    {
     "data": {
      "image/png": "[encoded data removed]",
      "text/plain": [
       "<Figure size 1800x400 with 1 Axes>"
      ]
     },
     "metadata": {},
     "output_type": "display_data"
    },
    {
     "data": {
      "image/png": "[encoded data removed]",
      "text/plain": [
       "<Figure size 1800x400 with 1 Axes>"
      ]
     },
     "metadata": {},
     "output_type": "display_data"
    }
   ],
   "source": [
    "all_data = pd.concat([df.assign(Dataset=name) for name, df in dataframes.items()])\n",
    "\n",
    "labels = summary[\"Edge Feature Implementation\"]\n",
    "\n",
    "plt.figure(figsize=(18, 4))\n",
    "ax1 = sns.boxplot(\n",
    "    data=all_data, x=\"Dataset\", y=\"val_f1\", hue=\"Dataset\", palette=\"Set3\", legend=False\n",
    ")\n",
    "ax1.set_xticks(range(len(labels)))\n",
    "ax1.set_xticklabels(labels)\n",
    "plt.title(\"Boxplot for Validation f1 across Datasets\")\n",
    "plt.show()\n",
    "\n",
    "plt.figure(figsize=(18, 4))\n",
    "ax2 = sns.boxplot(\n",
    "    data=all_data,\n",
    "    x=\"Dataset\",\n",
    "    y=\"val_accuracy\",\n",
    "    hue=\"Dataset\",\n",
    "    palette=\"Set3\",\n",
    "    legend=False,\n",
    ")\n",
    "ax2.set_xticks(range(len(labels)))\n",
    "ax2.set_xticklabels(labels)\n",
    "plt.title(\"Boxplot for Validation accuracy across Datasets\")\n",
    "plt.show()"
   ]
  },
  {
   "cell_type": "code",
   "execution_count": 320,
   "metadata": {},
   "outputs": [
    {
     "name": "stdout",
     "output_type": "stream",
     "text": [
      "Dataset\n",
      "results_edges                          0.904762\n",
      "results_edges_aggr_meanmax_to_nodes    0.904762\n",
      "results_edges_aggr_sum_to_nodes        0.950000\n",
      "results_edges_freq                     0.904762\n",
      "Name: val_f1, dtype: float64\n",
      "Dataset\n",
      "results_edges                          0.857143\n",
      "results_edges_aggr_meanmax_to_nodes    0.857143\n",
      "results_edges_aggr_sum_to_nodes        0.928571\n",
      "results_edges_freq                     0.857143\n",
      "Name: val_accuracy, dtype: float64\n"
     ]
    }
   ],
   "source": [
    "# find max from each dataset:\n",
    "max_f1 = all_data.groupby(\"Dataset\").max()[\"val_f1\"]\n",
    "max_accuracy = all_data.groupby(\"Dataset\").max()[\"val_accuracy\"]\n",
    "print(max_f1)\n",
    "print(max_accuracy)"
   ]
  },
  {
   "cell_type": "markdown",
   "metadata": {},
   "source": [
    "***Reason for choice*** - \n",
    "After careful consideration of the methods presented and the results obtained from them, the method chosen for implementation is Method 4: Embed + Merge + Transform.\n",
    "\n",
    "***Justification*** - \n",
    "Method 4 excels in both Average Validation Accuracy 78% and F1 Score 86%, indicating its superior ability to balance precision and recall. Method 4 avoids the pitfalls of making assumptions on feature importance, unlike Method 2(Frequency), by learning directly from the data. Although, the maximum performance is achievied using Method 3, variant 1. This makes sense, since, both methods perform the exact same operation (sum) when merging edge features with node features, but according to the boxplot Method 4 is more stable. I will continue with the utilization of Method 4, and showcase the implementation in the following cells."
   ]
  },
  {
   "cell_type": "markdown",
   "metadata": {},
   "source": [
    "## 3.2 Modify your GNN to utilize Edge Features With The Chosen Method - Method 4"
   ]
  },
  {
   "cell_type": "markdown",
   "metadata": {},
   "source": [
    "### 3.2.1 Normal Convolution"
   ]
  },
  {
   "cell_type": "code",
   "execution_count": 53,
   "metadata": {},
   "outputs": [],
   "source": [
    "class GraphConvEdges(nn.Module):\n",
    "    \"\"\"Graph convolutional layer implementing the neighborhood aggregation with edge features.\"\"\"\n",
    "\n",
    "    def __init__(\n",
    "        self, in_node_features, in_edge_features, out_features, activation=None\n",
    "    ):\n",
    "        \"\"\"\n",
    "        Initialize the graph convolutional layer.\n",
    "\n",
    "        Args:\n",
    "            in_node_features (int): number of input node features.\n",
    "            in_edge_features (int): number of input edge features.\n",
    "            out_features (int): number of output node features.\n",
    "            activation (nn.Module or callable): activation function to apply. (optional)\n",
    "        \"\"\"\n",
    "        super().__init__()\n",
    "        self.activation = activation\n",
    "\n",
    "        self.weight = nn.Linear(in_node_features, out_features, bias=False)\n",
    "        self.bias = nn.Linear(in_node_features, out_features, bias=False)\n",
    "\n",
    "        # transform edge features to the same dimension as node features\n",
    "        self.edge_embedding = nn.Linear(in_edge_features, in_node_features)\n",
    "        # transform the combined features to scalar weights\n",
    "        self.edge_transform = nn.Sequential(\n",
    "            nn.Linear(in_node_features, 14),\n",
    "            nn.ReLU(),\n",
    "            nn.Linear(14, 1),\n",
    "            nn.Tanh(),\n",
    "        )\n",
    "\n",
    "    def forward(self, x, adj):\n",
    "        \"\"\"\n",
    "        Perform a forward pass through the graph convolutional layer.\n",
    "\n",
    "        Args:\n",
    "            x (torch.Tensor): The input node features of shape (N, in_node_features), where N is the number of nodes.\n",
    "            adj (torch.Tensor): The adjacency matrix with edge features.\n",
    "\n",
    "        Returns:\n",
    "            torch.Tensor: The output node features after the graph convolution.\n",
    "        \"\"\"\n",
    "        # embed edge features\n",
    "        edge_embedded = self.edge_embedding(adj)\n",
    "\n",
    "        # expand node features to align with edge shape for multiplication\n",
    "        x_expanded = x.unsqueeze(1).expand(-1, x.size(0), -1)\n",
    "        # merge\n",
    "        node_edge_merged = x_expanded + edge_embedded\n",
    "\n",
    "        # transform\n",
    "        edge_weights = self.edge_transform(node_edge_merged).squeeze(-1)\n",
    "\n",
    "        x_agg = torch.matmul(edge_weights, x)\n",
    "        h_combined = self.weight(x_agg) + self.bias(x)\n",
    "\n",
    "        if self.activation:\n",
    "            return self.activation(h_combined)\n",
    "        return h_combined"
   ]
  },
  {
   "cell_type": "markdown",
   "metadata": {},
   "source": [
    "### 3.2.2 GraphSAGE"
   ]
  },
  {
   "cell_type": "code",
   "execution_count": 54,
   "metadata": {},
   "outputs": [],
   "source": [
    "class GraphSAGEConvEdges(nn.Module):\n",
    "    def __init__(\n",
    "        self,\n",
    "        in_node_features,\n",
    "        in_edge_features,\n",
    "        out_features,\n",
    "        activation=None,\n",
    "        aggregation=\"mean\",\n",
    "    ):\n",
    "        \"\"\"\n",
    "        Initialize the GraphSAGE convolutional layer with edge features.\n",
    "\n",
    "        Args:\n",
    "            in_node_features (int): Number of input node features.\n",
    "            in_edge_features (int): Number of input edge features.\n",
    "            out_features (int): Number of output node features.\n",
    "            activation (nn.Module or callable, optional): Activation function to apply. Default is None.\n",
    "        \"\"\"\n",
    "        super(GraphSAGEConvEdges, self).__init__()\n",
    "        self.aggregation = aggregation\n",
    "        self.activation = activation\n",
    "        self.weight = nn.Linear(2 * in_node_features, out_features)\n",
    "\n",
    "        nn.init.xavier_uniform_(self.weight.weight)\n",
    "\n",
    "        self.edge_embedding = nn.Linear(in_edge_features, in_node_features)\n",
    "        self.edge_transform = nn.Sequential(\n",
    "            nn.Linear(in_node_features, 14),\n",
    "            nn.ReLU(),\n",
    "            nn.Linear(14, 1),\n",
    "            nn.Tanh(),\n",
    "        )\n",
    "\n",
    "    def forward(self, x, adj):\n",
    "        \"\"\"\n",
    "        Perform a forward pass through the GraphSAGE convolutional layer.\n",
    "\n",
    "        Args:\n",
    "            x (torch.Tensor): The input node features.\n",
    "            adj (torch.Tensor): The adjacency matrix with edge features.\n",
    "\n",
    "        Returns:\n",
    "            torch.Tensor: The output node features after the GraphSAGE convolution with edge consideration.\n",
    "        \"\"\"\n",
    "        edge_embedded = self.edge_embedding(adj)\n",
    "\n",
    "        x_expanded = x.unsqueeze(1).expand(-1, x.size(0), -1)\n",
    "        node_edge_merged = x_expanded + edge_embedded\n",
    "\n",
    "        edge_weights = self.edge_transform(node_edge_merged).squeeze(-1)\n",
    "\n",
    "        x_agg = self.aggregate(x, edge_weights)\n",
    "\n",
    "        x_concat = torch.cat([x, x_agg], dim=1)\n",
    "        x_out = self.weight(x_concat)\n",
    "\n",
    "        if self.activation:\n",
    "            x_out = self.activation(x_out)\n",
    "\n",
    "        return x_out\n",
    "\n",
    "    def aggregate(self, x, adj):  # room for improvement\n",
    "        \"\"\"\n",
    "        Args:\n",
    "            x (torch.Tensor): The input features.\n",
    "            adj (torch.Tensor): The adjacency matrix.\n",
    "\n",
    "        Returns:\n",
    "            torch.Tensor: The aggregated features.\n",
    "        \"\"\"\n",
    "        # normalize adj matrix\n",
    "        adj = adj / adj.sum(1, keepdim=True).clamp(min=1)\n",
    "        if self.aggregation == \"mean\":\n",
    "            x_agg = torch.matmul(adj, x)\n",
    "\n",
    "        elif self.aggregation == \"max\":\n",
    "            edge_index = torch.triu(adj).nonzero(as_tuple=False).t()\n",
    "            x_agg = torch.zeros_like(x)\n",
    "            # Loop on all nodes\n",
    "            for i in range(x_agg.shape[0]):\n",
    "                neighbors = x[edge_index[1, edge_index[0] == i]]\n",
    "                if neighbors.shape[0] > 0:\n",
    "                    x_agg[i] = neighbors.max(dim=0)[0]\n",
    "\n",
    "        return x_agg"
   ]
  },
  {
   "cell_type": "markdown",
   "metadata": {},
   "source": [
    "### 3.2.3 Attention-based Convolution"
   ]
  },
  {
   "cell_type": "code",
   "execution_count": 55,
   "metadata": {},
   "outputs": [],
   "source": [
    "class AttentionConvEdges(nn.Module):\n",
    "    def __init__(\n",
    "        self, in_node_features, in_edge_features, out_features, activation=None\n",
    "    ):\n",
    "        \"\"\"\n",
    "        Initialize the attention convolutional layer with edge features.\n",
    "\n",
    "        Args:\n",
    "            in_node_features (int): Number of input node features.\n",
    "            in_edge_features (int): Number of input edge features.\n",
    "            out_features (int): Number of output node features.\n",
    "            activation (nn.Module or callable, optional): Activation function to apply. Default is None.\n",
    "        \"\"\"\n",
    "        super(AttentionConvEdges, self).__init__()\n",
    "\n",
    "        self.activation = activation\n",
    "        self.edge_embedding = nn.Linear(in_edge_features, in_node_features)\n",
    "        self.edge_transform = nn.Sequential(\n",
    "            nn.Linear(in_node_features, 14),\n",
    "            nn.ReLU(),\n",
    "            nn.Linear(14, 1),\n",
    "            nn.Tanh(),\n",
    "        )\n",
    "\n",
    "        self.weight = nn.Parameter(torch.Tensor(in_node_features, out_features))\n",
    "        nn.init.xavier_uniform_(self.weight.data, gain=1.414)\n",
    "\n",
    "        # attention\n",
    "        self.a = nn.Parameter(torch.Tensor(2 * out_features, 1))\n",
    "        nn.init.xavier_uniform_(self.a.data, gain=1.414)\n",
    "\n",
    "        self.leakyrelu = nn.LeakyReLU()\n",
    "\n",
    "    def forward(self, x, adj):\n",
    "        \"\"\"\n",
    "        Perform a forward pass through the attention convolutional layer.\n",
    "\n",
    "        Args:\n",
    "            x (torch.Tensor): The input node features.\n",
    "            adj (torch.Tensor): The adjacency matrix with edge features.\n",
    "\n",
    "        Returns:\n",
    "            torch.Tensor: The output node features after applying the attention mechanism considering edge features.\n",
    "        \"\"\"\n",
    "        h = torch.mm(x, self.weight)\n",
    "        N = h.size()[0]\n",
    "\n",
    "        # edge feature transformation\n",
    "        edge_embedded = self.edge_embedding(adj)\n",
    "\n",
    "        x_expanded = x.unsqueeze(1).expand(-1, x.size(0), -1)\n",
    "        node_edge_merged = x_expanded + edge_embedded\n",
    "\n",
    "        edge_weights = self.edge_transform(node_edge_merged).squeeze(-1)\n",
    "\n",
    "        a_input = torch.cat(\n",
    "            [h.repeat(1, N).view(N * N, -1), h.repeat(N, 1)], dim=1\n",
    "        ).view(N, -1, 2 * h.size(1))\n",
    "        e = self.leakyrelu(torch.matmul(a_input, self.a).squeeze(2))\n",
    "\n",
    "        # modulate attention scores using edge weights\n",
    "        e = e * edge_weights\n",
    "\n",
    "        I = torch.eye(N, device=adj.device)\n",
    "        e = e.masked_fill(I.bool(), float(\"-inf\"))\n",
    "\n",
    "        attention = F.softmax(e, dim=1)\n",
    "\n",
    "        h_prime = torch.matmul(attention, h)\n",
    "\n",
    "        if self.activation is not None:\n",
    "            h_prime = self.activation(h_prime)\n",
    "\n",
    "        return h_prime"
   ]
  },
  {
   "cell_type": "markdown",
   "metadata": {},
   "source": [
    "### 3.2.4 Custom(izable) Network Architecture"
   ]
  },
  {
   "cell_type": "code",
   "execution_count": 56,
   "metadata": {},
   "outputs": [],
   "source": [
    "class GraphClassifierEdges(nn.Module):\n",
    "    def __init__(\n",
    "        self,\n",
    "        in_features,\n",
    "        edg_features,\n",
    "        hidden_features,  # add this line to the parameters\n",
    "        num_layers=2,\n",
    "        layer_type=\"GraphConvEdges\",  # changed the default\n",
    "        pooling=\"mean\",\n",
    "    ):\n",
    "        super(GraphClassifierEdges, self).__init__()\n",
    "\n",
    "        self.layers = nn.ModuleList()\n",
    "\n",
    "        for _ in range(num_layers):\n",
    "            if layer_type == \"GraphConvEdges\":\n",
    "                self.layers.append(\n",
    "                    GraphConvEdges(\n",
    "                        in_features if len(self.layers) == 0 else hidden_features,\n",
    "                        in_edge_features=edg_features,  # account for edge features\n",
    "                        out_features=hidden_features,\n",
    "                        activation=F.relu,\n",
    "                    )\n",
    "                )\n",
    "            elif layer_type == \"AttentionConvEdges\":\n",
    "                self.layers.append(\n",
    "                    AttentionConvEdges(\n",
    "                        in_features if len(self.layers) == 0 else hidden_features,\n",
    "                        in_edge_features=edg_features,  # account for edge features\n",
    "                        out_features=hidden_features,\n",
    "                    )\n",
    "                )\n",
    "            elif layer_type == \"GraphSAGEConvEdges\":\n",
    "                self.layers.append(\n",
    "                    GraphSAGEConvEdges(\n",
    "                        in_features if len(self.layers) == 0 else hidden_features,\n",
    "                        in_edge_features=edg_features,  # account for edge features\n",
    "                        out_features=hidden_features,\n",
    "                        activation=F.relu,\n",
    "                    )\n",
    "                )\n",
    "\n",
    "        if pooling == \"mean\":\n",
    "            self.pooling = mean_pooling\n",
    "        elif pooling == \"max\":\n",
    "            self.pooling = max_pooling\n",
    "        else:\n",
    "            raise ValueError(\"Invalid pooling type.\")\n",
    "\n",
    "        self.fc = nn.Linear(hidden_features, 1)  # Binary classification\n",
    "\n",
    "    def forward(self, x, adj):\n",
    "        \"\"\"\n",
    "        Forward propagation for the graph.\n",
    "\n",
    "        Args:\n",
    "            x (Tensor): Node features, shape (num_nodes, in_features).\n",
    "            adj (Tensor): Adjacency matrix, shape (num_nodes, num_nodes).\n",
    "            edge_features (Tensor): Edge features, shape (num_nodes, num_nodes, edge_features).\n",
    "\n",
    "        Returns:\n",
    "            Tensor: Binary prediction for the entire graph, shape (1).\n",
    "        \"\"\"\n",
    "        for layer in self.layers:\n",
    "            x = layer(x, adj)\n",
    "\n",
    "        x = self.pooling(x)\n",
    "\n",
    "        x = self.fc(x)\n",
    "        return x"
   ]
  },
  {
   "cell_type": "markdown",
   "metadata": {},
   "source": [
    "### 3.2.5 Hyperparameter Optimization"
   ]
  },
  {
   "cell_type": "code",
   "execution_count": 299,
   "metadata": {},
   "outputs": [
    {
     "name": "stdout",
     "output_type": "stream",
     "text": [
      "Best hyperparameters: Num Layers: 1, LR: 0.1, Layer Type: GraphConvEdges, Hidden Features: 16, Pooling: mean, with Val f1: 0.9047619047619047\n"
     ]
    }
   ],
   "source": [
    "all_results_edges = []\n",
    "\n",
    "hyperparameters = {\n",
    "    \"num_layers\": [1, 2, 3, 4],\n",
    "    \"learning_rate\": [0.1, 0.01, 0.001],\n",
    "    \"layer_type\": [\"GraphConvEdges\", \"AttentionConvEdges\", \"GraphSAGEConvEdges\"],\n",
    "    \"hidden_features\": [16, 32, 64],\n",
    "    \"pooling\": [\"mean\", \"max\"],\n",
    "}\n",
    "\n",
    "num_epochs = 30\n",
    "best_val_f1 = float(0)\n",
    "best_params = None\n",
    "\n",
    "for nl in hyperparameters[\"num_layers\"]:\n",
    "    for lr in hyperparameters[\"learning_rate\"]:\n",
    "        for lt in hyperparameters[\"layer_type\"]:\n",
    "            for hf in hyperparameters[\"hidden_features\"]:\n",
    "                for pooling in hyperparameters[\"pooling\"]:\n",
    "                    model = GraphClassifierEdges(\n",
    "                        in_features=7,\n",
    "                        edg_features=4,\n",
    "                        hidden_features=hf,\n",
    "                        num_layers=nl,\n",
    "                        layer_type=lt,\n",
    "                        pooling=pooling,\n",
    "                    )\n",
    "                    optimizer = torch.optim.Adam(model.parameters(), lr=lr)\n",
    "\n",
    "                    best_val_f1_model = 0\n",
    "                    best_val_f1_model_accuracy = 0\n",
    "\n",
    "                    for epoch in range(num_epochs):\n",
    "                        train_loss, train_accuracy, train_f1 = train_edges(\n",
    "                            model, train_loader, optimizer\n",
    "                        )\n",
    "                        val_loss, val_accuracy, val_f1 = evaluate_edges(\n",
    "                            model, val_loader\n",
    "                        )\n",
    "\n",
    "                        print(\n",
    "                            f\"Epoch {epoch+1}/{num_epochs}, Train F1: {train_f1}, Train Accuracy: {train_accuracy}, Val F1: {val_f1}, Val Accuracy: {val_accuracy}\"\n",
    "                        )\n",
    "\n",
    "                        if val_f1 > best_val_f1:\n",
    "                            best_val_f1 = val_f1\n",
    "                            best_params = (nl, lr, lt, hf, pooling)\n",
    "                            torch.save(model.state_dict(), \"best_model_edges.pt\")\n",
    "\n",
    "                        if val_f1 > best_val_f1_model:\n",
    "                            best_val_f1_model = val_f1\n",
    "                            best_val_f1_model_accuracy = val_accuracy\n",
    "\n",
    "                    results = {\n",
    "                        \"name\": str(lt)\n",
    "                        + \"_\"\n",
    "                        + str(nl)\n",
    "                        + \"_\"\n",
    "                        + str(lr)\n",
    "                        + \"_\"\n",
    "                        + str(hf)\n",
    "                        + \"_\"\n",
    "                        + str(pooling),\n",
    "                        \"num_layers\": nl,\n",
    "                        \"learning_rate\": lr,\n",
    "                        \"layer_type\": lt,\n",
    "                        \"hidden_features\": hf,\n",
    "                        \"pooling\": pooling,\n",
    "                        \"val_accuracy\": best_val_f1_model_accuracy,\n",
    "                        \"val_f1\": best_val_f1_model,\n",
    "                    }\n",
    "\n",
    "                    all_results_edges.append(results)\n",
    "                    clear_output()\n",
    "print(\n",
    "    f\"Best hyperparameters: Num Layers: {best_params[0]}, LR: {best_params[1]}, Layer Type: {best_params[2]}, Hidden Features: {best_params[3]}, Pooling: {best_params[4]}, with Val f1: {best_val_f1}\"\n",
    ")"
   ]
  },
  {
   "cell_type": "code",
   "execution_count": 300,
   "metadata": {},
   "outputs": [],
   "source": [
    "with open(\"results_edges_embed_transform.csv\", \"w\", newline=\"\") as csvfile:\n",
    "    fieldnames = [\n",
    "        \"name\",\n",
    "        \"num_layers\",\n",
    "        \"learning_rate\",\n",
    "        \"layer_type\",\n",
    "        \"hidden_features\",\n",
    "        \"pooling\",\n",
    "        \"val_accuracy\",\n",
    "        \"val_f1\",\n",
    "    ]\n",
    "    writer = csv.DictWriter(csvfile, fieldnames=fieldnames)\n",
    "\n",
    "    writer.writeheader()\n",
    "    for row in all_results_edges:\n",
    "        writer.writerow(row)"
   ]
  },
  {
   "cell_type": "markdown",
   "metadata": {},
   "source": [
    "### 3.2.6 Performance Evaluation"
   ]
  },
  {
   "cell_type": "markdown",
   "metadata": {},
   "source": [
    "For the performance evaluation, i will use: Methods' 4 best model, and Method 3 Variant 1 - the overall best performing model we saw above."
   ]
  },
  {
   "cell_type": "markdown",
   "metadata": {},
   "source": [
    "##### 3.2.6.1 Overall Performance Evaluation"
   ]
  },
  {
   "cell_type": "code",
   "execution_count": 48,
   "metadata": {},
   "outputs": [
    {
     "data": {
      "text/html": [
       "<div>\n",
       "<style scoped>\n",
       "    .dataframe tbody tr th:only-of-type {\n",
       "        vertical-align: middle;\n",
       "    }\n",
       "\n",
       "    .dataframe tbody tr th {\n",
       "        vertical-align: top;\n",
       "    }\n",
       "\n",
       "    .dataframe thead th {\n",
       "        text-align: right;\n",
       "    }\n",
       "</style>\n",
       "<table border=\"1\" class=\"dataframe\">\n",
       "  <thead>\n",
       "    <tr style=\"text-align: right;\">\n",
       "      <th></th>\n",
       "      <th>Method</th>\n",
       "      <th>Average Val Accuracy</th>\n",
       "      <th>Average Val F1</th>\n",
       "    </tr>\n",
       "  </thead>\n",
       "  <tbody>\n",
       "    <tr>\n",
       "      <th>0</th>\n",
       "      <td>Nodes</td>\n",
       "      <td>0.736998</td>\n",
       "      <td>0.835816</td>\n",
       "    </tr>\n",
       "    <tr>\n",
       "      <th>1</th>\n",
       "      <td>Edge 1 : Embed + Merge + Transform</td>\n",
       "      <td>0.788525</td>\n",
       "      <td>0.866932</td>\n",
       "    </tr>\n",
       "    <tr>\n",
       "      <th>2</th>\n",
       "      <td>Edge 2 : Aggr. to Nodes (Sum)</td>\n",
       "      <td>0.752149</td>\n",
       "      <td>0.844497</td>\n",
       "    </tr>\n",
       "  </tbody>\n",
       "</table>\n",
       "</div>"
      ],
      "text/plain": [
       "                               Method  Average Val Accuracy  Average Val F1\n",
       "0                               Nodes              0.736998        0.835816\n",
       "1  Edge 1 : Embed + Merge + Transform              0.788525        0.866932\n",
       "2       Edge 2 : Aggr. to Nodes (Sum)              0.752149        0.844497"
      ]
     },
     "execution_count": 48,
     "metadata": {},
     "output_type": "execute_result"
    }
   ],
   "source": [
    "results_nodes_df = pd.read_csv(\"results_nodes.csv\")\n",
    "results_edges_embed_transform_df = pd.read_csv(\"results_edges_embed_transform.csv\")\n",
    "results_edges_aggr_sum_to_nodes_df = pd.read_csv(\"results_edges_aggr_sum_to_nodes.csv\")\n",
    "\n",
    "metrics_nodes = results_nodes_df[[\"name\", \"val_accuracy\", \"val_f1\"]]\n",
    "metrics_edges_embed_transform = results_edges_embed_transform_df[\n",
    "    [\"name\", \"val_accuracy\", \"val_f1\"]\n",
    "]\n",
    "metrics_edges_aggr_sum_to_nodes = results_edges_aggr_sum_to_nodes_df[\n",
    "    [\"name\", \"val_accuracy\", \"val_f1\"]\n",
    "]\n",
    "\n",
    "avg_performance = {\n",
    "    \"Method\": [\n",
    "        \"Nodes\",\n",
    "        \"Edge 1 : Embed + Merge + Transform\",\n",
    "        \"Edge 2 : Aggr. to Nodes (Sum)\",\n",
    "    ],\n",
    "    \"Average Val Accuracy\": [\n",
    "        metrics_nodes[\"val_accuracy\"].mean(),\n",
    "        metrics_edges_embed_transform[\"val_accuracy\"].mean(),\n",
    "        metrics_edges_aggr_sum_to_nodes[\"val_accuracy\"].mean(),\n",
    "    ],\n",
    "    \"Average Val F1\": [\n",
    "        metrics_nodes[\"val_f1\"].mean(),\n",
    "        metrics_edges_embed_transform[\"val_f1\"].mean(),\n",
    "        metrics_edges_aggr_sum_to_nodes[\"val_f1\"].mean(),\n",
    "    ],\n",
    "}\n",
    "\n",
    "avg_performance_df = pd.DataFrame(avg_performance)\n",
    "avg_performance_df"
   ]
  },
  {
   "cell_type": "markdown",
   "metadata": {},
   "source": [
    "From the table, we can observe that:\n",
    "\n",
    "-The \"Embed + Merge + Transform\" method has the highest average validation accuracy and F1 score.<br>\n",
    "-The \"Nodes Only\" method has the lowest average validation accuracy and F1 score.<br>\n",
    "-The \"Edge Aggr. to Nodes (Sum)\" method provides performance in between the other two methods.<br>\n",
    "This suggests that using edge features, especially with the \"Embed + Merge + Transform\" method, does improve performance compared to just using node features alone."
   ]
  },
  {
   "cell_type": "code",
   "execution_count": 51,
   "metadata": {},
   "outputs": [
    {
     "data": {
      "image/png": "[encoded data removed]",
      "text/plain": [
       "<Figure size 800x500 with 1 Axes>"
      ]
     },
     "metadata": {},
     "output_type": "display_data"
    }
   ],
   "source": [
    "plt.figure(figsize=(8, 5))\n",
    "\n",
    "plt.bar(\n",
    "    avg_performance_df[\"Method\"],\n",
    "    avg_performance_df[\"Average Val F1\"],\n",
    "    color=[\"blue\", \"green\", \"orange\"],\n",
    ")\n",
    "plt.xlabel(\"Method\")\n",
    "plt.ylabel(\"Average Validation F1 Score\")\n",
    "plt.title(\"Average Validation F1 Score Comparison\")\n",
    "plt.ylim(0.7, 0.9)\n",
    "plt.xticks(rotation=15)\n",
    "plt.tight_layout()\n",
    "\n",
    "plt.show()"
   ]
  },
  {
   "cell_type": "markdown",
   "metadata": {},
   "source": [
    "Here's the bar plot comparing the average validation F1 score for each method. Again, the \"Embed + Merge + Transform\" method shows superior performance in terms of the F1 score."
   ]
  },
  {
   "cell_type": "markdown",
   "metadata": {},
   "source": [
    "##### 3.2.6.2 Best Model Performance Evaluation"
   ]
  },
  {
   "cell_type": "code",
   "execution_count": 64,
   "metadata": {},
   "outputs": [
    {
     "data": {
      "text/html": [
       "<div>\n",
       "<style scoped>\n",
       "    .dataframe tbody tr th:only-of-type {\n",
       "        vertical-align: middle;\n",
       "    }\n",
       "\n",
       "    .dataframe tbody tr th {\n",
       "        vertical-align: top;\n",
       "    }\n",
       "\n",
       "    .dataframe thead th {\n",
       "        text-align: right;\n",
       "    }\n",
       "</style>\n",
       "<table border=\"1\" class=\"dataframe\">\n",
       "  <thead>\n",
       "    <tr style=\"text-align: right;\">\n",
       "      <th></th>\n",
       "      <th>Model Name</th>\n",
       "      <th>Validation Accuracy</th>\n",
       "      <th>Top Validation F1 Score</th>\n",
       "    </tr>\n",
       "  </thead>\n",
       "  <tbody>\n",
       "    <tr>\n",
       "      <th>146</th>\n",
       "      <td>Nodes Only</td>\n",
       "      <td>0.857143</td>\n",
       "      <td>0.904762</td>\n",
       "    </tr>\n",
       "    <tr>\n",
       "      <th>0</th>\n",
       "      <td>Edge 1 : Embed + Merge + Transform</td>\n",
       "      <td>0.857143</td>\n",
       "      <td>0.904762</td>\n",
       "    </tr>\n",
       "    <tr>\n",
       "      <th>75</th>\n",
       "      <td>Edge 2 : Edge Aggr. to Nodes (Sum)</td>\n",
       "      <td>0.928571</td>\n",
       "      <td>0.95</td>\n",
       "    </tr>\n",
       "  </tbody>\n",
       "</table>\n",
       "</div>"
      ],
      "text/plain": [
       "                             Model Name Validation Accuracy   \n",
       "146                          Nodes Only            0.857143  \\\n",
       "0    Edge 1 : Embed + Merge + Transform            0.857143   \n",
       "75   Edge 2 : Edge Aggr. to Nodes (Sum)            0.928571   \n",
       "\n",
       "    Top Validation F1 Score  \n",
       "146                0.904762  \n",
       "0                  0.904762  \n",
       "75                     0.95  "
      ]
     },
     "execution_count": 64,
     "metadata": {},
     "output_type": "execute_result"
    }
   ],
   "source": [
    "top_model_nodes = results_nodes_df.loc[results_nodes_df[\"val_f1\"].idxmax()]\n",
    "top_model_edges_embed_transform = results_edges_embed_transform_df.loc[\n",
    "    results_edges_embed_transform_df[\"val_f1\"].idxmax()\n",
    "]\n",
    "top_model_edges_aggr_sum_to_nodes = results_edges_aggr_sum_to_nodes_df.loc[\n",
    "    results_edges_aggr_sum_to_nodes_df[\"val_f1\"].idxmax()\n",
    "]\n",
    "\n",
    "top_models_df = pd.concat(\n",
    "    [\n",
    "        top_model_nodes,\n",
    "        top_model_edges_embed_transform,\n",
    "        top_model_edges_aggr_sum_to_nodes,\n",
    "    ],\n",
    "    axis=1,\n",
    ").T\n",
    "top_models_df = top_models_df[[\"name\", \"val_accuracy\", \"val_f1\"]]\n",
    "top_models_df.columns = [\"Model Name\", \"Validation Accuracy\", \"Top Validation F1 Score\"]\n",
    "top_models_df[\"Model Name\"] = [\n",
    "    \"Nodes Only\",\n",
    "    \"Edge 1 : Embed + Merge + Transform\",\n",
    "    \"Edge 2 : Edge Aggr. to Nodes (Sum)\",\n",
    "]\n",
    "\n",
    "top_models_df"
   ]
  },
  {
   "cell_type": "markdown",
   "metadata": {},
   "source": [
    " \"Edge Aggr. to Nodes (Sum)\" method's top model outperformed the other methods in both validation accuracy and F1 score."
   ]
  },
  {
   "cell_type": "markdown",
   "metadata": {},
   "source": [
    "##### 3.2.6.3 Evaluate the performance on the test set"
   ]
  },
  {
   "cell_type": "code",
   "execution_count": 57,
   "metadata": {},
   "outputs": [
    {
     "data": {
      "text/plain": [
       "<All keys matched successfully>"
      ]
     },
     "execution_count": 57,
     "metadata": {},
     "output_type": "execute_result"
    }
   ],
   "source": [
    "best_model_method_4 = GraphClassifierEdges(  # initialize this based on best_params\n",
    "    in_features=7,\n",
    "    edg_features=4,\n",
    "    hidden_features=16,\n",
    "    num_layers=1,\n",
    "    layer_type=\"GraphConvEdges\",\n",
    "    pooling=\"mean\",\n",
    ")\n",
    "best_model_method_4.load_state_dict(torch.load(\"best_model_edges.pt\"))\n",
    "best_model_method_3 = GraphClassifier(\n",
    "    in_features=11,\n",
    "    hidden_features=32,\n",
    "    num_layers=2,\n",
    "    layer_type=\"GraphConv\",\n",
    "    pooling=\"max\",\n",
    ")\n",
    "best_model_method_3.load_state_dict(torch.load(\"best_model_edges_aggr_sum_to_nodes.pt\"))\n",
    "best_model_nodes = GraphClassifier(\n",
    "    in_features=7,\n",
    "    hidden_features=16,\n",
    "    num_layers=3,\n",
    "    layer_type=\"GraphConv\",\n",
    "    pooling=\"max\",\n",
    ")\n",
    "best_model_nodes.load_state_dict(torch.load(\"best_model_nodes.pt\"))"
   ]
  },
  {
   "cell_type": "code",
   "execution_count": 58,
   "metadata": {},
   "outputs": [
    {
     "name": "stdout",
     "output_type": "stream",
     "text": [
      "Method 4 - Test F1: 0.8205128205128205, Test Accuracy: 0.7586206896551724\n"
     ]
    },
    {
     "data": {
      "image/png": "[encoded data removed]",
      "text/plain": [
       "<Figure size 800x600 with 1 Axes>"
      ]
     },
     "metadata": {},
     "output_type": "display_data"
    },
    {
     "name": "stdout",
     "output_type": "stream",
     "text": [
      "Method 3 - Test F1: 0.8717948717948718, Test Accuracy: 0.8275862068965517\n"
     ]
    },
    {
     "data": {
      "image/png": "[encoded data removed]",
      "text/plain": [
       "<Figure size 800x600 with 1 Axes>"
      ]
     },
     "metadata": {},
     "output_type": "display_data"
    },
    {
     "name": "stdout",
     "output_type": "stream",
     "text": [
      "Best Nodes Model - Test F1: 0.8292682926829269, Test Accuracy: 0.7586206896551724\n"
     ]
    },
    {
     "data": {
      "image/png": "[encoded data removed]",
      "text/plain": [
       "<Figure size 800x600 with 1 Axes>"
      ]
     },
     "metadata": {},
     "output_type": "display_data"
    }
   ],
   "source": [
    "test_loss_m4, test_accuracy_m4, test_f1_m4, cm1 = test_edges(\n",
    "    best_model_method_4, test_loader, nn.BCEWithLogitsLoss()\n",
    ")\n",
    "test_loss_m3, test_accuracy_m3, test_f1_m3, cm2 = test_add_edge_to_nodes(\n",
    "    best_model_method_3, test_loader\n",
    ")\n",
    "test_loss, test_accuracy_nodes_best, test_f1_nodes_best, cm3 = test(\n",
    "    best_model_nodes, test_loader, nn.BCEWithLogitsLoss()\n",
    ")\n",
    "\n",
    "print(f\"Method 4 - Test F1: {test_f1_m4}, Test Accuracy: {test_accuracy_m4}\")\n",
    "plot_confusion_matrix(cm1, \"Confusion Matrix for Method 4\")\n",
    "print(f\"Method 3 - Test F1: {test_f1_m3}, Test Accuracy: {test_accuracy_m3}\")\n",
    "plot_confusion_matrix(cm2, \"Confusion Matrix for Method 3\")\n",
    "print(\n",
    "    f\"Best Nodes Model - Test F1: {test_f1_nodes_best}, Test Accuracy: {test_accuracy_nodes_best}\"\n",
    ")\n",
    "plot_confusion_matrix(cm3, \"Confusion Matrix for Best Nodes Model\")"
   ]
  },
  {
   "cell_type": "markdown",
   "metadata": {},
   "source": [
    "***Final Remark*** - Incorporating edge features into the model does enhance performance, as seen from the results above. Its interesting that a straightforward aggregation of edge features to nodes outperformed a more intricate embedding and transformation process. But when looking at the overall picture the later outperforms the former. It's essential to highlight the sample size's potential implications on the validity of the results. With only around 28 samples each for validation and testing, the results may carry a degree of uncertainty. Future experiments with larger datasets would provide more robust and generalized insights."
   ]
  },
  {
   "cell_type": "markdown",
   "metadata": {},
   "source": [
    "## Additional Code"
   ]
  },
  {
   "cell_type": "markdown",
   "metadata": {},
   "source": [
    "### <s> Implementing Edge Features Using Method 1: Aggregate Edge Features - ILLOGICAL! </s>"
   ]
  },
  {
   "cell_type": "markdown",
   "metadata": {},
   "source": [
    "/comment/: These stay the same as in the node features part (Part 1). The only thing that should be changed is adding an aggregation (mean, max, sum) to the adjacency matrix and then using that as an input to the model."
   ]
  },
  {
   "cell_type": "code",
   "execution_count": 309,
   "metadata": {},
   "outputs": [],
   "source": [
    "# 1.1 GraphConv\n",
    "class GraphConvEdges(nn.Module):\n",
    "    \"\"\"Basic graph convolutional layer implementing the simple neighborhood aggregation.\"\"\"\n",
    "\n",
    "    def __init__(self, in_features, out_features, activation=None):\n",
    "        \"\"\"\n",
    "        Initialize the graph convolutional layer.\n",
    "\n",
    "        Args:\n",
    "            in_features (int): number of input node features.\n",
    "            out_features (int): number of output node features.\n",
    "            activation (nn.Module or callable): activation function to apply. (optional)\n",
    "        \"\"\"\n",
    "        super().__init__()\n",
    "        self.activation = activation\n",
    "\n",
    "        self.weight = nn.Linear(in_features, out_features, bias=False)\n",
    "        nn.init.xavier_uniform_(self.weight.weight)\n",
    "        self.bias = nn.Linear(in_features, out_features, bias=False)\n",
    "\n",
    "    def forward(self, x, adj):\n",
    "        \"\"\"\n",
    "        Perform graph convolution operation.\n",
    "\n",
    "        Args:\n",
    "            x (Tensor): Input node features of shape (num_nodes, in_features).\n",
    "            adj (Tensor): Adjacency matrix of the graph, shape (num_nodes, num_nodes).\n",
    "\n",
    "        Returns:\n",
    "            Tensor: Output node features after graph convolution, shape (num_nodes, out_features).\n",
    "        \"\"\"\n",
    "        adj = adj / adj.sum(1, keepdim=True).clamp(min=1)\n",
    "        x_agg = torch.matmul(adj, x)\n",
    "\n",
    "        x = self.weight(x_agg) + self.bias(x)\n",
    "\n",
    "        if self.activation is not None:\n",
    "            x = self.activation(x)\n",
    "        return x\n",
    "\n",
    "\n",
    "## 1.2 GraphSAGE\n",
    "class GraphSAGEConvEdges(nn.Module):\n",
    "    def __init__(self, in_features, out_features, activation=None):\n",
    "        super(GraphSAGEConvEdges, self).__init__()\n",
    "\n",
    "        self.weight = nn.Linear(2 * in_features, out_features)\n",
    "        nn.init.xavier_uniform_(self.weight.weight)\n",
    "        self.activation = activation\n",
    "\n",
    "    def forward(self, x, adj):\n",
    "        x_agg = self.aggregate(x, adj)\n",
    "\n",
    "        x_concat = torch.cat([x, x_agg], dim=1)\n",
    "\n",
    "        x_out = self.weight(x_concat)\n",
    "\n",
    "        if self.activation:\n",
    "            x_out = self.activation(x_out)\n",
    "\n",
    "        return x_out\n",
    "\n",
    "    def aggregate(self, x, adj):\n",
    "        \"\"\"\n",
    "        This function performs the neighborhood aggregation.\n",
    "        \"\"\"\n",
    "        adj = adj / adj.sum(1, keepdim=True).clamp(min=1)\n",
    "        x_agg = torch.matmul(adj, x)\n",
    "        return x_agg\n",
    "\n",
    "\n",
    "## 1.3 Attention-based Convolution\n",
    "class AttentionConvEdges(nn.Module):\n",
    "    def __init__(self, in_features, out_features):\n",
    "        super(AttentionConvEdges, self).__init__()\n",
    "\n",
    "        self.weight = nn.Parameter(torch.Tensor(in_features, out_features))\n",
    "        nn.init.xavier_uniform_(self.weight.data, gain=1.414)\n",
    "\n",
    "        self.a = nn.Parameter(torch.Tensor(2 * out_features, 1))\n",
    "        nn.init.xavier_uniform_(self.a.data, gain=1.414)\n",
    "\n",
    "        self.leakyrelu = nn.LeakyReLU()\n",
    "\n",
    "    def forward(self, x, adj):\n",
    "        h = torch.mm(x, self.weight)\n",
    "        N = h.size()[0]\n",
    "\n",
    "        a_input = torch.cat(\n",
    "            [h.repeat(1, N).view(N * N, -1), h.repeat(N, 1)], dim=1\n",
    "        ).view(N, -1, 2 * h.size(1))\n",
    "        e = self.leakyrelu(torch.matmul(a_input, self.a).squeeze(2))\n",
    "\n",
    "        I = torch.eye(N, device=adj.device)\n",
    "        e = e.masked_fill(I.bool(), float(\"-inf\"))\n",
    "\n",
    "        attention = F.softmax(e, dim=1)\n",
    "\n",
    "        h_prime = torch.matmul(attention, h)\n",
    "\n",
    "        return h_prime"
   ]
  },
  {
   "cell_type": "markdown",
   "metadata": {},
   "source": [
    "/comment/: This also stays the same"
   ]
  },
  {
   "cell_type": "code",
   "execution_count": 313,
   "metadata": {},
   "outputs": [],
   "source": [
    "class GraphClassifierEdges(nn.Module):\n",
    "    def __init__(\n",
    "        self,\n",
    "        in_features,\n",
    "        hidden_features,\n",
    "        num_layers=2,\n",
    "        layer_type=\"GraphConvEdges\",  # default\n",
    "        pooling=\"mean\",  # default\n",
    "    ):\n",
    "        \"\"\"\n",
    "        Initialize the Graph Classifier.\n",
    "\n",
    "        Args:\n",
    "            in_features (int): Number of input node features.\n",
    "            hidden_features (int): Number of hidden node features.\n",
    "            num_layers (int): Number of graph convolutional layers.\n",
    "            layer_type (str): Type of graph convolutional layer ('GraphConv', 'AttentionConv', 'GraphSAGEConv').\n",
    "            pooling (str): Pooling method ('mean' or 'max').\n",
    "        \"\"\"\n",
    "        super(GraphClassifierEdges, self).__init__()\n",
    "\n",
    "        self.layers = nn.ModuleList()\n",
    "\n",
    "        for _ in range(num_layers):\n",
    "            if layer_type == \"GraphConvEdges\":\n",
    "                self.layers.append(\n",
    "                    GraphConvEdges(\n",
    "                        in_features if len(self.layers) == 0 else hidden_features,\n",
    "                        hidden_features,\n",
    "                        F.relu,\n",
    "                    )\n",
    "                )\n",
    "            elif layer_type == \"AttentionConvEdges\":\n",
    "                self.layers.append(\n",
    "                    AttentionConvEdges(\n",
    "                        in_features if len(self.layers) == 0 else hidden_features,\n",
    "                        hidden_features,\n",
    "                    )\n",
    "                )\n",
    "            elif layer_type == \"GraphSAGEConvEdges\":\n",
    "                self.layers.append(\n",
    "                    GraphSAGEConvEdges(\n",
    "                        in_features if len(self.layers) == 0 else hidden_features,\n",
    "                        hidden_features,\n",
    "                        F.relu,\n",
    "                    )\n",
    "                )\n",
    "\n",
    "        if pooling == \"mean\":\n",
    "            self.pooling = mean_pooling\n",
    "        elif pooling == \"max\":\n",
    "            self.pooling = max_pooling\n",
    "        else:\n",
    "            raise ValueError(\"Invalid pooling type.\")\n",
    "\n",
    "        self.fc = nn.Linear(hidden_features, 1)\n",
    "\n",
    "    def forward(self, x, adj):\n",
    "        \"\"\"\n",
    "        Forward propagation for the graph.\n",
    "\n",
    "        Args:\n",
    "            x (Tensor): Node features, shape (num_nodes, in_features).\n",
    "            adj (Tensor): Adjacency matrix, shape (num_nodes, num_nodes).\n",
    "\n",
    "        Returns:\n",
    "            Tensor: Binary prediction for the entire graph, shape (1).\n",
    "        \"\"\"\n",
    "\n",
    "        for layer in self.layers:\n",
    "            x = layer(x, adj)\n",
    "\n",
    "        x = self.pooling(x)\n",
    "\n",
    "        x = self.fc(x)\n",
    "\n",
    "        return x"
   ]
  },
  {
   "cell_type": "markdown",
   "metadata": {},
   "source": [
    "/comment/: Changes, line 21 and 61. According to the method you want to use, you just uncomment/comment. Possible methods max/sum/mean "
   ]
  },
  {
   "cell_type": "code",
   "execution_count": 34,
   "metadata": {},
   "outputs": [],
   "source": [
    "### This code block should be in train_test_val_loops.py file, but im showing it here for clarity\n",
    "\n",
    "\n",
    "def train_with_aggr_edges(\n",
    "    model, train_loader, optimizer, criterion=nn.BCEWithLogitsLoss(), threshold=0.5\n",
    "):\n",
    "    model.train()\n",
    "    train_loss = 0.0\n",
    "\n",
    "    true_labels, preds = (\n",
    "        [],\n",
    "        [],\n",
    "    )\n",
    "\n",
    "    for batch in train_loader:\n",
    "        x, edge_index, edge_attr, labels, adj_matrix, adj_matrix_edges = batch\n",
    "        x = x[0]\n",
    "        labels = labels[0].float()\n",
    "        # adj_matrix_edges = torch.mean(adj_matrix_edges[0], dim=2)\n",
    "        # If you want to use sum or max, just comment the above line and uncomment the desired line below:\n",
    "        # adj_matrix_edges = torch.sum(adj_matrix_edges[0], dim=2)\n",
    "        adj_matrix_edges, _ = torch.max(adj_matrix_edges[0], dim=2)\n",
    "\n",
    "        # adj_matrix_edges = adj_matrix_edges[0]\n",
    "        outputs = model(x, adj_matrix_edges)\n",
    "        outputs = outputs.squeeze(-1)\n",
    "\n",
    "        loss = criterion(outputs, labels)\n",
    "        optimizer.zero_grad()\n",
    "        loss.backward()\n",
    "        optimizer.step()\n",
    "        train_loss += loss.item()\n",
    "\n",
    "        probs = torch.sigmoid(outputs)\n",
    "        predictions = (probs > threshold).float()\n",
    "\n",
    "        true_labels.extend(labels.cpu().numpy())\n",
    "        preds.extend(predictions.cpu().numpy())\n",
    "\n",
    "    train_accuracy = accuracy_score(true_labels, preds)\n",
    "    train_f1 = f1_score(true_labels, preds)\n",
    "    return train_loss / len(train_loader), train_accuracy, train_f1\n",
    "\n",
    "\n",
    "def evaluate_with_aggr_edges(\n",
    "    model, val_loader, criterion=nn.BCEWithLogitsLoss(), threshold=0.5\n",
    "):\n",
    "    model.eval()\n",
    "    val_loss = 0.0\n",
    "    val_labels, val_preds = [], []\n",
    "    with torch.no_grad():\n",
    "        for batch in val_loader:\n",
    "            x, edge_index, edge_attr, labels, adj_matrix, adj_matrix_edges = batch\n",
    "\n",
    "            x = x[0]\n",
    "            labels = labels[0].float()\n",
    "            # adj_matrix_edges = adj_matrix_edges[0]\n",
    "            # adj_matrix_edges = torch.mean(adj_matrix_edges[0], dim=2)\n",
    "            # If you want to use sum or max, just comment the above line and uncomment the desired line below:\n",
    "            # adj_matrix_edges = torch.sum(adj_matrix_edges[0], dim=2)\n",
    "            adj_matrix_edges, _ = torch.max(adj_matrix_edges[0], dim=2)\n",
    "\n",
    "            outputs = model(x, adj_matrix_edges)\n",
    "            outputs = outputs.squeeze(-1)\n",
    "\n",
    "            val_loss += criterion(outputs, labels).item()\n",
    "\n",
    "            probs = torch.sigmoid(outputs)\n",
    "            predictions = (probs > threshold).float()\n",
    "            val_labels.extend(labels.cpu().numpy())\n",
    "            val_preds.extend(predictions.cpu().numpy())\n",
    "\n",
    "    val_accuracy = accuracy_score(val_labels, val_preds)\n",
    "    val_f1 = f1_score(val_labels, val_preds)\n",
    "    return val_loss / len(val_loader), val_accuracy, val_f1"
   ]
  },
  {
   "cell_type": "markdown",
   "metadata": {},
   "source": [
    "/comment/: The hyperparameter loop remains unchanged"
   ]
  },
  {
   "cell_type": "code",
   "execution_count": 35,
   "metadata": {},
   "outputs": [
    {
     "name": "stdout",
     "output_type": "stream",
     "text": [
      "Best hyperparameters: Num Layers: 4, LR: 0.01, Layer Type: GraphConvEdges, Hidden Features: 64, Pooling: mean, with Val f1: 0.9047619047619047\n"
     ]
    }
   ],
   "source": [
    "all_results_edges_max = []\n",
    "\n",
    "hyperparameters = {\n",
    "    \"num_layers\": [1, 2, 3, 4],\n",
    "    \"learning_rate\": [0.1, 0.01, 0.001],\n",
    "    \"layer_type\": [\"GraphConvEdges\", \"AttentionConvEdges\", \"GraphSAGEConvEdges\"],\n",
    "    \"hidden_features\": [16, 32, 64],\n",
    "    \"pooling\": [\"mean\", \"max\"],\n",
    "}\n",
    "\n",
    "num_epochs = 30\n",
    "best_val_f1 = float(0)\n",
    "best_params = None\n",
    "\n",
    "for nl in hyperparameters[\"num_layers\"]:\n",
    "    for lr in hyperparameters[\"learning_rate\"]:\n",
    "        for lt in hyperparameters[\"layer_type\"]:\n",
    "            for hf in hyperparameters[\"hidden_features\"]:\n",
    "                for pooling in hyperparameters[\"pooling\"]:\n",
    "                    model = GraphClassifierEdges(\n",
    "                        in_features=7,\n",
    "                        hidden_features=hf,\n",
    "                        num_layers=nl,\n",
    "                        layer_type=lt,\n",
    "                        pooling=pooling,\n",
    "                    )\n",
    "                    optimizer = torch.optim.Adam(model.parameters(), lr=lr)\n",
    "\n",
    "                    best_val_f1_model = 0\n",
    "                    best_val_f1_model_accuracy = 0\n",
    "\n",
    "                    for epoch in range(num_epochs):\n",
    "                        train_loss, train_accuracy, train_f1 = train_with_aggr_edges(\n",
    "                            model, train_loader, optimizer\n",
    "                        )\n",
    "                        val_loss, val_accuracy, val_f1 = evaluate_with_aggr_edges(\n",
    "                            model, val_loader\n",
    "                        )\n",
    "\n",
    "                        print(\n",
    "                            f\"Epoch {epoch+1}/{num_epochs}, Train F1: {train_f1}, Train Accuracy: {train_accuracy}, Val F1: {val_f1}, Val Accuracy: {val_accuracy}\"\n",
    "                        )\n",
    "\n",
    "                        if val_f1 > best_val_f1:\n",
    "                            best_val_f1 = val_f1\n",
    "                            best_params = (nl, lr, lt, hf, pooling)\n",
    "                            torch.save(model.state_dict(), \"best_model_edges_max.pt\")\n",
    "\n",
    "                        if val_f1 > best_val_f1_model:\n",
    "                            best_val_f1_model = val_f1\n",
    "                            best_val_f1_model_accuracy = val_accuracy\n",
    "\n",
    "                    results = {\n",
    "                        \"name\": str(lt)\n",
    "                        + \"_\"\n",
    "                        + str(nl)\n",
    "                        + \"_\"\n",
    "                        + str(lr)\n",
    "                        + \"_\"\n",
    "                        + str(hf)\n",
    "                        + \"_\"\n",
    "                        + str(pooling),\n",
    "                        \"num_layers\": nl,\n",
    "                        \"learning_rate\": lr,\n",
    "                        \"layer_type\": lt,\n",
    "                        \"hidden_features\": hf,\n",
    "                        \"pooling\": pooling,\n",
    "                        \"val_accuracy\": best_val_f1_model_accuracy,\n",
    "                        \"val_f1\": best_val_f1_model,\n",
    "                    }\n",
    "\n",
    "                    all_results_edges_max.append(results)\n",
    "                    clear_output()\n",
    "print(\n",
    "    f\"Best hyperparameters: Num Layers: {best_params[0]}, LR: {best_params[1]}, Layer Type: {best_params[2]}, Hidden Features: {best_params[3]}, Pooling: {best_params[4]}, with Val f1: {best_val_f1}\"\n",
    ")"
   ]
  },
  {
   "cell_type": "code",
   "execution_count": 36,
   "metadata": {},
   "outputs": [],
   "source": [
    "with open(\"results_edges_max.csv\", \"w\", newline=\"\") as csvfile:\n",
    "    fieldnames = [\n",
    "        \"name\",\n",
    "        \"num_layers\",\n",
    "        \"learning_rate\",\n",
    "        \"layer_type\",\n",
    "        \"hidden_features\",\n",
    "        \"pooling\",\n",
    "        \"val_accuracy\",\n",
    "        \"val_f1\",\n",
    "    ]\n",
    "    writer = csv.DictWriter(csvfile, fieldnames=fieldnames)\n",
    "\n",
    "    writer.writeheader()\n",
    "    for row in all_results_edges_max:\n",
    "        writer.writerow(row)"
   ]
  },
  {
   "cell_type": "markdown",
   "metadata": {},
   "source": [
    "### Implementing Edge Features Using Method 2: Scalars(Constants) Based on Frequency of Edge Features"
   ]
  },
  {
   "cell_type": "markdown",
   "metadata": {},
   "source": [
    "The layers and the model remain unchanged"
   ]
  },
  {
   "cell_type": "code",
   "execution_count": 37,
   "metadata": {},
   "outputs": [
    {
     "name": "stdout",
     "output_type": "stream",
     "text": [
      "{'[1.0, 0.0, 0.0, 0.0]': 130, '[0.0, 1.0, 0.0, 0.0]': 140, '[0.0, 0.0, 1.0, 0.0]': 140, '[0.0, 0.0, 0.0, 1.0]': 10}\n"
     ]
    }
   ],
   "source": [
    "edg_feats = []\n",
    "xs = []\n",
    "\n",
    "for batch in train_loader:\n",
    "    edg_feats.append(batch[2])\n",
    "    xs.append(batch[0])\n",
    "\n",
    "num_features = 4\n",
    "patterns = [torch.zeros(num_features) for _ in range(num_features)]\n",
    "for i in range(num_features):\n",
    "    patterns[i][i] = 1.0\n",
    "\n",
    "count_frequencies = {str(pattern.tolist()): 0 for pattern in patterns}\n",
    "\n",
    "for graph in edg_feats:\n",
    "    for pattern in patterns:\n",
    "        count_frequencies[str(pattern.tolist())] += torch.sum(\n",
    "            (graph == pattern).all(dim=1)\n",
    "        ).item()\n",
    "\n",
    "print(count_frequencies)"
   ]
  },
  {
   "cell_type": "markdown",
   "metadata": {},
   "source": [
    "/comment/: In this case i will use count frequency since its loaded in this notebook. But if i were to use this as a function i would send it as an argument. "
   ]
  },
  {
   "cell_type": "code",
   "execution_count": 38,
   "metadata": {},
   "outputs": [],
   "source": [
    "def train_with_freq_edges(\n",
    "    model, train_loader, optimizer, criterion=nn.BCEWithLogitsLoss(), threshold=0.5\n",
    "):\n",
    "    model.train()\n",
    "    train_loss = 0.0\n",
    "\n",
    "    true_labels, preds = (\n",
    "        [],\n",
    "        [],\n",
    "    )\n",
    "\n",
    "    sorted_patterns = sorted(\n",
    "        count_frequencies.keys(), key=lambda k: count_frequencies[k], reverse=True\n",
    "    )\n",
    "\n",
    "    # mapping from pattern to rank\n",
    "    pattern_to_rank = {\n",
    "        pattern: rank + 1 for rank, pattern in enumerate(sorted_patterns)\n",
    "    }\n",
    "\n",
    "    for batch in train_loader:\n",
    "        x, edge_index, edge_attr, labels, adj_matrix, adj_matrix_edges = batch\n",
    "        x = x[0]\n",
    "        labels = labels[0].float()\n",
    "\n",
    "        edge_attr_matrix = edge_attr[0]\n",
    "        for edge, value in zip(edge_index[0].t(), edge_attr_matrix):\n",
    "            source, target = edge\n",
    "            pattern_str = str(value.tolist())\n",
    "            if pattern_str in pattern_to_rank:\n",
    "                rank = pattern_to_rank[pattern_str]\n",
    "                adj_matrix_edges[0][source][target] = rank\n",
    "                adj_matrix_edges[0][target][source] = rank\n",
    "\n",
    "        outputs = model(x, adj_matrix_edges)\n",
    "        outputs = outputs.squeeze(-1)\n",
    "\n",
    "        loss = criterion(outputs, labels)\n",
    "        optimizer.zero_grad()\n",
    "        loss.backward()\n",
    "        optimizer.step()\n",
    "        train_loss += loss.item()\n",
    "\n",
    "        probs = torch.sigmoid(outputs)\n",
    "        predictions = (probs > threshold).float()\n",
    "\n",
    "        true_labels.extend(labels.cpu().numpy())\n",
    "        preds.extend(predictions.cpu().numpy())\n",
    "\n",
    "    train_accuracy = accuracy_score(true_labels, preds)\n",
    "    train_f1 = f1_score(true_labels, preds)\n",
    "    return train_loss / len(train_loader), train_accuracy, train_f1\n",
    "\n",
    "\n",
    "def evaluate_with_freq_edges(\n",
    "    model, val_loader, criterion=nn.BCEWithLogitsLoss(), threshold=0.5\n",
    "):\n",
    "    model.eval()\n",
    "    val_loss = 0.0\n",
    "    val_labels, val_preds = [], []\n",
    "\n",
    "    sorted_patterns = sorted(\n",
    "        count_frequencies.keys(), key=lambda k: count_frequencies[k], reverse=True\n",
    "    )\n",
    "\n",
    "    # Create a mapping from pattern to rank\n",
    "    pattern_to_rank = {\n",
    "        pattern: rank + 1 for rank, pattern in enumerate(sorted_patterns)\n",
    "    }\n",
    "\n",
    "    with torch.no_grad():\n",
    "        for batch in val_loader:\n",
    "            x, edge_index, edge_attr, labels, adj_matrix, adj_matrix_edges = batch\n",
    "\n",
    "            x = x[0]\n",
    "            labels = labels[0].float()\n",
    "            edge_attr_matrix = edge_attr[0]\n",
    "            for edge, value in zip(edge_index[0].t(), edge_attr_matrix):\n",
    "                source, target = edge\n",
    "                pattern_str = str(value.tolist())\n",
    "                if pattern_str in pattern_to_rank:\n",
    "                    rank = pattern_to_rank[pattern_str]\n",
    "                    adj_matrix_edges[0][source][target] = rank\n",
    "                    adj_matrix_edges[0][target][\n",
    "                        source\n",
    "                    ] = rank  # Assuming undirected graphs\n",
    "\n",
    "            outputs = model(x, adj_matrix_edges)\n",
    "            outputs = outputs.squeeze(-1)\n",
    "\n",
    "            val_loss += criterion(outputs, labels).item()\n",
    "\n",
    "            probs = torch.sigmoid(outputs)\n",
    "            predictions = (probs > threshold).float()\n",
    "            val_labels.extend(labels.cpu().numpy())\n",
    "            val_preds.extend(predictions.cpu().numpy())\n",
    "\n",
    "    val_accuracy = accuracy_score(val_labels, val_preds)\n",
    "    val_f1 = f1_score(val_labels, val_preds)\n",
    "    return val_loss / len(val_loader), val_accuracy, val_f1"
   ]
  },
  {
   "cell_type": "code",
   "execution_count": 39,
   "metadata": {},
   "outputs": [
    {
     "name": "stdout",
     "output_type": "stream",
     "text": [
      "Best hyperparameters: Num Layers: 1, LR: 0.001, Layer Type: GraphConvEdges, Hidden Features: 16, Pooling: max, with Val f1: 0.9047619047619047\n"
     ]
    }
   ],
   "source": [
    "all_results_edges_freq = []\n",
    "\n",
    "hyperparameters = {\n",
    "    \"num_layers\": [1, 2, 3, 4],\n",
    "    \"learning_rate\": [0.1, 0.01, 0.001],\n",
    "    \"layer_type\": [\"GraphConvEdges\", \"AttentionConvEdges\", \"GraphSAGEConvEdges\"],\n",
    "    \"hidden_features\": [16, 32, 64],\n",
    "    \"pooling\": [\"mean\", \"max\"],\n",
    "}\n",
    "\n",
    "num_epochs = 30\n",
    "best_val_f1 = float(0)\n",
    "best_params = None\n",
    "\n",
    "for nl in hyperparameters[\"num_layers\"]:\n",
    "    for lr in hyperparameters[\"learning_rate\"]:\n",
    "        for lt in hyperparameters[\"layer_type\"]:\n",
    "            for hf in hyperparameters[\"hidden_features\"]:\n",
    "                for pooling in hyperparameters[\"pooling\"]:\n",
    "                    model = GraphClassifierEdges(\n",
    "                        in_features=7,\n",
    "                        hidden_features=hf,\n",
    "                        num_layers=nl,\n",
    "                        layer_type=lt,\n",
    "                        pooling=pooling,\n",
    "                    )\n",
    "                    optimizer = torch.optim.Adam(model.parameters(), lr=lr)\n",
    "\n",
    "                    best_val_f1_model = 0\n",
    "                    best_val_f1_model_accuracy = 0\n",
    "\n",
    "                    for epoch in range(num_epochs):\n",
    "                        train_loss, train_accuracy, train_f1 = train_with_aggr_edges(\n",
    "                            model, train_loader, optimizer\n",
    "                        )\n",
    "                        val_loss, val_accuracy, val_f1 = evaluate_with_aggr_edges(\n",
    "                            model, val_loader\n",
    "                        )\n",
    "\n",
    "                        print(\n",
    "                            f\"Epoch {epoch+1}/{num_epochs}, Train F1: {train_f1}, Train Accuracy: {train_accuracy}, Val F1: {val_f1}, Val Accuracy: {val_accuracy}\"\n",
    "                        )\n",
    "\n",
    "                        if val_f1 > best_val_f1:\n",
    "                            best_val_f1 = val_f1\n",
    "                            best_params = (nl, lr, lt, hf, pooling)\n",
    "                            torch.save(model.state_dict(), \"best_model_edges_freq.pt\")\n",
    "\n",
    "                        if val_f1 > best_val_f1_model:\n",
    "                            best_val_f1_model = val_f1\n",
    "                            best_val_f1_model_accuracy = val_accuracy\n",
    "\n",
    "                    results = {\n",
    "                        \"name\": str(lt)\n",
    "                        + \"_\"\n",
    "                        + str(nl)\n",
    "                        + \"_\"\n",
    "                        + str(lr)\n",
    "                        + \"_\"\n",
    "                        + str(hf)\n",
    "                        + \"_\"\n",
    "                        + str(pooling),\n",
    "                        \"num_layers\": nl,\n",
    "                        \"learning_rate\": lr,\n",
    "                        \"layer_type\": lt,\n",
    "                        \"hidden_features\": hf,\n",
    "                        \"pooling\": pooling,\n",
    "                        \"val_accuracy\": best_val_f1_model_accuracy,\n",
    "                        \"val_f1\": best_val_f1_model,\n",
    "                    }\n",
    "\n",
    "                    all_results_edges_freq.append(results)\n",
    "                    clear_output()\n",
    "print(\n",
    "    f\"Best hyperparameters: Num Layers: {best_params[0]}, LR: {best_params[1]}, Layer Type: {best_params[2]}, Hidden Features: {best_params[3]}, Pooling: {best_params[4]}, with Val f1: {best_val_f1}\"\n",
    ")"
   ]
  },
  {
   "cell_type": "code",
   "execution_count": 40,
   "metadata": {},
   "outputs": [],
   "source": [
    "with open(\"results_edges_freq.csv\", \"w\", newline=\"\") as csvfile:\n",
    "    fieldnames = [\n",
    "        \"name\",\n",
    "        \"num_layers\",\n",
    "        \"learning_rate\",\n",
    "        \"layer_type\",\n",
    "        \"hidden_features\",\n",
    "        \"pooling\",\n",
    "        \"val_accuracy\",\n",
    "        \"val_f1\",\n",
    "    ]\n",
    "    writer = csv.DictWriter(csvfile, fieldnames=fieldnames)\n",
    "\n",
    "    writer.writeheader()\n",
    "    for row in all_results_edges_freq:\n",
    "        writer.writerow(row)"
   ]
  },
  {
   "cell_type": "markdown",
   "metadata": {},
   "source": [
    "### Implementing Edge Features Using Method 3: Node Feature Augmentation based on Edge Feature Aggregation, Variant 1 and 2"
   ]
  },
  {
   "cell_type": "markdown",
   "metadata": {},
   "source": [
    "/comment/: Again the layers and the model remain unchanged. The change occurs when initializing the model, we initialize it with 11 instead of 7, since we concatenate the aggregated edge features with the node features. The second change occurs in the train and eval, where we find the edges related to a node and aggregate them with the chosen method."
   ]
  },
  {
   "cell_type": "markdown",
   "metadata": {},
   "source": [
    "Variant 1: I use sum to aggregate"
   ]
  },
  {
   "cell_type": "code",
   "execution_count": 318,
   "metadata": {},
   "outputs": [],
   "source": [
    "def train_add_edge_to_nodes(\n",
    "    model, train_loader, optimizer, criterion=nn.BCEWithLogitsLoss(), threshold=0.5\n",
    "):\n",
    "    model.train()\n",
    "    train_loss = 0.0\n",
    "\n",
    "    true_labels, preds = [], []\n",
    "\n",
    "    for batch in train_loader:\n",
    "        x, edge_index, edge_attr, labels, adj_matrix, _ = batch\n",
    "        x = x[0]\n",
    "        labels = labels[0].float()\n",
    "        adj_matrix = adj_matrix[0]\n",
    "        # aggregate the edge attributes\n",
    "        aggregated_attributes = aggregate_edge_features_by_node(\n",
    "            x, edge_index, edge_attr\n",
    "        )\n",
    "\n",
    "        # Augment or replace node features with aggregated attributes\n",
    "        # Here's an example where we concatenate them:\n",
    "        x_combined = torch.cat([x, aggregated_attributes], dim=1)\n",
    "        outputs = model(x_combined, adj_matrix)\n",
    "        outputs = outputs.squeeze(-1)\n",
    "\n",
    "        loss = criterion(outputs, labels)\n",
    "        optimizer.zero_grad()\n",
    "        loss.backward()\n",
    "        optimizer.step()\n",
    "        train_loss += loss.item()\n",
    "\n",
    "        probs = torch.sigmoid(outputs)\n",
    "        predictions = (probs > threshold).float()\n",
    "\n",
    "        true_labels.extend(labels.cpu().numpy())\n",
    "        preds.extend(predictions.cpu().numpy())\n",
    "\n",
    "    train_accuracy = accuracy_score(true_labels, preds)\n",
    "    train_f1 = f1_score(true_labels, preds)\n",
    "    return train_loss / len(train_loader), train_accuracy, train_f1\n",
    "\n",
    "\n",
    "def evaluate_add_edge_to_nodes(\n",
    "    model, val_loader, criterion=nn.BCEWithLogitsLoss(), threshold=0.5\n",
    "):\n",
    "    model.eval()\n",
    "    val_loss = 0.0\n",
    "    val_labels, val_preds = [], []\n",
    "    with torch.no_grad():\n",
    "        for batch in val_loader:\n",
    "            x, edge_index, edge_attr, labels, adj_matrix, _ = batch\n",
    "\n",
    "            x = x[0]\n",
    "            labels = labels[0].float()\n",
    "            adj_matrix = adj_matrix[0]\n",
    "            # aggregate the edge attributes\n",
    "            aggregated_attributes = aggregate_edge_features_by_node(\n",
    "                x, edge_index, edge_attr\n",
    "            )\n",
    "\n",
    "            # Augment or replace node features with aggregated attributes\n",
    "            # Here's an example where we concatenate them:\n",
    "            x_combined = torch.cat([x, aggregated_attributes], dim=1)\n",
    "            outputs = model(x_combined, adj_matrix)\n",
    "            outputs = outputs.squeeze(-1)\n",
    "\n",
    "            val_loss += criterion(outputs, labels).item()\n",
    "\n",
    "            probs = torch.sigmoid(outputs)\n",
    "            predictions = (probs > threshold).float()\n",
    "            val_labels.extend(labels.cpu().numpy())\n",
    "            val_preds.extend(predictions.cpu().numpy())\n",
    "\n",
    "    val_accuracy = accuracy_score(val_labels, val_preds)\n",
    "    val_f1 = f1_score(val_labels, val_preds)\n",
    "    return val_loss / len(val_loader), val_accuracy, val_f1"
   ]
  },
  {
   "cell_type": "code",
   "execution_count": 62,
   "metadata": {},
   "outputs": [
    {
     "name": "stdout",
     "output_type": "stream",
     "text": [
      "Best hyperparameters: Num Layers: 2, LR: 0.01, Layer Type: GraphConvEdges, Hidden Features: 32, Pooling: max, with Val f1: 0.9500000000000001\n"
     ]
    }
   ],
   "source": [
    "all_results_edges_aggr_sum_to_nodes = (\n",
    "    []\n",
    ")  # change in accordance to the aggregation method\n",
    "\n",
    "hyperparameters = {\n",
    "    \"num_layers\": [1, 2, 3, 4],\n",
    "    \"learning_rate\": [0.1, 0.01, 0.001],\n",
    "    \"layer_type\": [\"GraphConvEdges\", \"AttentionConvEdges\", \"GraphSAGEConvEdges\"],\n",
    "    \"hidden_features\": [16, 32, 64],\n",
    "    \"pooling\": [\"mean\", \"max\"],\n",
    "}\n",
    "\n",
    "num_epochs = 30\n",
    "best_val_f1 = float(0)\n",
    "best_params = None\n",
    "\n",
    "for nl in hyperparameters[\"num_layers\"]:\n",
    "    for lr in hyperparameters[\"learning_rate\"]:\n",
    "        for lt in hyperparameters[\"layer_type\"]:\n",
    "            for hf in hyperparameters[\"hidden_features\"]:\n",
    "                for pooling in hyperparameters[\"pooling\"]:\n",
    "                    model = GraphClassifierEdges(\n",
    "                        in_features=11,  # Its 11 since we add the edge attributes to the node features\n",
    "                        hidden_features=hf,\n",
    "                        num_layers=nl,\n",
    "                        layer_type=lt,\n",
    "                        pooling=pooling,\n",
    "                    )\n",
    "                    optimizer = torch.optim.Adam(model.parameters(), lr=lr)\n",
    "\n",
    "                    best_val_f1_model = 0\n",
    "                    best_val_f1_model_accuracy = 0\n",
    "\n",
    "                    for epoch in range(num_epochs):\n",
    "                        train_loss, train_accuracy, train_f1 = train_add_edge_to_nodes(\n",
    "                            model, train_loader, optimizer\n",
    "                        )\n",
    "                        val_loss, val_accuracy, val_f1 = evaluate_add_edge_to_nodes(\n",
    "                            model, val_loader\n",
    "                        )\n",
    "\n",
    "                        print(\n",
    "                            f\"Epoch {epoch+1}/{num_epochs}, Train F1: {train_f1}, Train Accuracy: {train_accuracy}, Val F1: {val_f1}, Val Accuracy: {val_accuracy}\"\n",
    "                        )\n",
    "\n",
    "                        if val_f1 > best_val_f1:\n",
    "                            best_val_f1 = val_f1\n",
    "                            best_params = (nl, lr, lt, hf, pooling)\n",
    "                            torch.save(\n",
    "                                model.state_dict(),\n",
    "                                \"best_model_edges_aggr_sum_to_nodes.pt\",\n",
    "                            )\n",
    "\n",
    "                        if val_f1 > best_val_f1_model:\n",
    "                            best_val_f1_model = val_f1\n",
    "                            best_val_f1_model_accuracy = val_accuracy\n",
    "\n",
    "                    results = {\n",
    "                        \"name\": str(lt)\n",
    "                        + \"_\"\n",
    "                        + str(nl)\n",
    "                        + \"_\"\n",
    "                        + str(lr)\n",
    "                        + \"_\"\n",
    "                        + str(hf)\n",
    "                        + \"_\"\n",
    "                        + str(pooling),\n",
    "                        \"num_layers\": nl,\n",
    "                        \"learning_rate\": lr,\n",
    "                        \"layer_type\": lt,\n",
    "                        \"hidden_features\": hf,\n",
    "                        \"pooling\": pooling,\n",
    "                        \"val_accuracy\": best_val_f1_model_accuracy,\n",
    "                        \"val_f1\": best_val_f1_model,\n",
    "                    }\n",
    "\n",
    "                    all_results_edges_aggr_sum_to_nodes.append(results)\n",
    "                    clear_output()\n",
    "print(\n",
    "    f\"Best hyperparameters: Num Layers: {best_params[0]}, LR: {best_params[1]}, Layer Type: {best_params[2]}, Hidden Features: {best_params[3]}, Pooling: {best_params[4]}, with Val f1: {best_val_f1}\"\n",
    ")"
   ]
  },
  {
   "cell_type": "code",
   "execution_count": 63,
   "metadata": {},
   "outputs": [],
   "source": [
    "with open(\"results_edges_aggr_sum_to_nodes.csv\", \"w\", newline=\"\") as csvfile:\n",
    "    fieldnames = [\n",
    "        \"name\",\n",
    "        \"num_layers\",\n",
    "        \"learning_rate\",\n",
    "        \"layer_type\",\n",
    "        \"hidden_features\",\n",
    "        \"pooling\",\n",
    "        \"val_accuracy\",\n",
    "        \"val_f1\",\n",
    "    ]\n",
    "    writer = csv.DictWriter(csvfile, fieldnames=fieldnames)\n",
    "\n",
    "    writer.writeheader()\n",
    "    for row in all_results_edges_aggr_sum_to_nodes:\n",
    "        writer.writerow(row)"
   ]
  },
  {
   "cell_type": "markdown",
   "metadata": {},
   "source": [
    "Variant 2: I use mean aggregation AND max aggregation and then i combine them in a single vector (of size 8) and then i concatenate that vector to the node features. So basically a combination of mean and max, the idea was to preserve the pros from doing these types of aggregation."
   ]
  },
  {
   "cell_type": "markdown",
   "metadata": {},
   "source": [
    "Example: if a node has 2 edges with features: `[0 0 1 0]` and `[0 1 0 0]`, the resulting mean aggregation would be `[0, 0.5 0.5 0]` and the max `[0, 1, 1, 0]` => and the concatenation of this two `[0, 0.5, 0.5, 0, 0, 1, 1, 0]`. This is then concatenated with the node feature vector."
   ]
  },
  {
   "cell_type": "code",
   "execution_count": 12,
   "metadata": {},
   "outputs": [],
   "source": [
    "def aggregate_edge_features_by_node(\n",
    "    x, edge_index, edge_attr\n",
    "):  # I just change the function to do mean max intead of sum.\n",
    "    edge_index = edge_index.squeeze(0)  # Removing batch dimension\n",
    "    edge_attr = edge_attr.squeeze(0)\n",
    "\n",
    "    num_nodes = x.size(0)\n",
    "    num_features = edge_attr.size(-1)\n",
    "\n",
    "    aggregated_sum = torch.zeros(num_nodes, num_features).to(x.device)\n",
    "    aggregated_count = torch.zeros(num_nodes).to(x.device)\n",
    "\n",
    "    for i in range(edge_index.size(1)):\n",
    "        src = edge_index[0, i].item()\n",
    "        aggregated_sum[src] += edge_attr[i]\n",
    "        aggregated_count[src] += 1\n",
    "\n",
    "    # mean aggregation\n",
    "    aggregated_mean = aggregated_sum / (\n",
    "        aggregated_count.unsqueeze(-1) + 1e-9\n",
    "    )  # Adding small value to prevent division by zero\n",
    "\n",
    "    # max aggregation\n",
    "    aggregated_max = torch.max(aggregated_mean, dim=0)[0]\n",
    "\n",
    "    # combination\n",
    "    aggregated_attributes = torch.cat(\n",
    "        [aggregated_mean, aggregated_max.unsqueeze(0).repeat(num_nodes, 1)], dim=1\n",
    "    )\n",
    "\n",
    "    return aggregated_attributes"
   ]
  },
  {
   "cell_type": "code",
   "execution_count": 15,
   "metadata": {},
   "outputs": [
    {
     "name": "stdout",
     "output_type": "stream",
     "text": [
      "Best hyperparameters: Num Layers: 2, LR: 0.01, Layer Type: GraphConvEdges, Hidden Features: 64, Pooling: max, with Val f1: 0.9047619047619047\n"
     ]
    }
   ],
   "source": [
    "results_edges_aggr_meanmax_to_nodes = (\n",
    "    []\n",
    ")  # change in accordance to the aggregation method\n",
    "\n",
    "hyperparameters = {\n",
    "    \"num_layers\": [1, 2, 3, 4],\n",
    "    \"learning_rate\": [0.1, 0.01, 0.001],\n",
    "    \"layer_type\": [\"GraphConvEdges\", \"AttentionConvEdges\", \"GraphSAGEConvEdges\"],\n",
    "    \"hidden_features\": [16, 32, 64],\n",
    "    \"pooling\": [\"mean\", \"max\"],\n",
    "}\n",
    "\n",
    "num_epochs = 30\n",
    "best_val_f1 = float(0)\n",
    "best_params = None\n",
    "\n",
    "for nl in hyperparameters[\"num_layers\"]:\n",
    "    for lr in hyperparameters[\"learning_rate\"]:\n",
    "        for lt in hyperparameters[\"layer_type\"]:\n",
    "            for hf in hyperparameters[\"hidden_features\"]:\n",
    "                for pooling in hyperparameters[\"pooling\"]:\n",
    "                    model = GraphClassifierEdges(\n",
    "                        in_features=15,  # ITS 15 SINCE WE ADD THE EDGE ATTRIBUTES TO THE NODE FEATURES\n",
    "                        hidden_features=hf,\n",
    "                        num_layers=nl,\n",
    "                        layer_type=lt,\n",
    "                        pooling=pooling,\n",
    "                    )\n",
    "                    optimizer = torch.optim.Adam(model.parameters(), lr=lr)\n",
    "\n",
    "                    best_val_f1_model = 0\n",
    "                    best_val_f1_model_accuracy = 0\n",
    "\n",
    "                    for epoch in range(num_epochs):\n",
    "                        train_loss, train_accuracy, train_f1 = train_add_edge_to_nodes(\n",
    "                            model, train_loader, optimizer\n",
    "                        )\n",
    "                        val_loss, val_accuracy, val_f1 = evaluate_add_edge_to_nodes(\n",
    "                            model, val_loader\n",
    "                        )\n",
    "\n",
    "                        print(\n",
    "                            f\"Epoch {epoch+1}/{num_epochs}, Train F1: {train_f1}, Train Accuracy: {train_accuracy}, Val F1: {val_f1}, Val Accuracy: {val_accuracy}\"\n",
    "                        )\n",
    "\n",
    "                        if val_f1 > best_val_f1:\n",
    "                            best_val_f1 = val_f1\n",
    "                            best_params = (nl, lr, lt, hf, pooling)\n",
    "                            torch.save(\n",
    "                                model.state_dict(),\n",
    "                                \"best_model_edges_aggr_meanmax_to_nodes.pt\",\n",
    "                            )\n",
    "\n",
    "                        if val_f1 > best_val_f1_model:\n",
    "                            best_val_f1_model = val_f1\n",
    "                            best_val_f1_model_accuracy = val_accuracy\n",
    "\n",
    "                    results = {\n",
    "                        \"name\": str(lt)\n",
    "                        + \"_\"\n",
    "                        + str(nl)\n",
    "                        + \"_\"\n",
    "                        + str(lr)\n",
    "                        + \"_\"\n",
    "                        + str(hf)\n",
    "                        + \"_\"\n",
    "                        + str(pooling),\n",
    "                        \"num_layers\": nl,\n",
    "                        \"learning_rate\": lr,\n",
    "                        \"layer_type\": lt,\n",
    "                        \"hidden_features\": hf,\n",
    "                        \"pooling\": pooling,\n",
    "                        \"val_accuracy\": best_val_f1_model_accuracy,\n",
    "                        \"val_f1\": best_val_f1_model,\n",
    "                    }\n",
    "\n",
    "                    results_edges_aggr_meanmax_to_nodes.append(results)\n",
    "                    clear_output()\n",
    "print(\n",
    "    f\"Best hyperparameters: Num Layers: {best_params[0]}, LR: {best_params[1]}, Layer Type: {best_params[2]}, Hidden Features: {best_params[3]}, Pooling: {best_params[4]}, with Val f1: {best_val_f1}\"\n",
    ")"
   ]
  },
  {
   "cell_type": "code",
   "execution_count": 16,
   "metadata": {},
   "outputs": [],
   "source": [
    "with open(\"results_edges_aggr_meanmax_to_nodes.csv\", \"w\", newline=\"\") as csvfile:\n",
    "    fieldnames = [\n",
    "        \"name\",\n",
    "        \"num_layers\",\n",
    "        \"learning_rate\",\n",
    "        \"layer_type\",\n",
    "        \"hidden_features\",\n",
    "        \"pooling\",\n",
    "        \"val_accuracy\",\n",
    "        \"val_f1\",\n",
    "    ]\n",
    "    writer = csv.DictWriter(csvfile, fieldnames=fieldnames)\n",
    "\n",
    "    writer.writeheader()\n",
    "    for row in results_edges_aggr_meanmax_to_nodes:\n",
    "        writer.writerow(row)"
   ]
  }
 ],
 "metadata": {
  "kernelspec": {
   "display_name": "pytorch_env",
   "language": "python",
   "name": "python3"
  },
  "language_info": {
   "codemirror_mode": {
    "name": "ipython",
    "version": 3
   },
   "file_extension": ".py",
   "mimetype": "text/x-python",
   "name": "python",
   "nbconvert_exporter": "python",
   "pygments_lexer": "ipython3",
   "version": "3.9.16"
  }
 },
 "nbformat": 4,
 "nbformat_minor": 2
}
